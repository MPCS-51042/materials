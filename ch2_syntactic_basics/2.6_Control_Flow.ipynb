{
 "cells": [
  {
   "cell_type": "markdown",
   "metadata": {},
   "source": [
    "### Video Explanation [Available Here](https://www.youtube.com/watch?v=8MCpuP1zWNU)!\n",
    "\n",
    "\n",
    "### Python is a whitespaced language. \n",
    "\n",
    "- Java, Ruby, C++, Kotlin, and Swift use braces ``{}`` to designate code blocks.\n",
    "- Lisp/Scheme/Rackt family languages us parentheses `()`.\n",
    "- Python uses indentation to signify code blocks.\n",
    "\n",
    "Statements indented to the same distance belong to the same block of code.\n",
    "\n",
    "Blocks end:\n",
    "  - When the end of file is detected.\n",
    "  - When a lesser-indented line is detected.\n",
    "\n",
    "Deeply nested blocks are further indented to the right."
   ]
  },
  {
   "cell_type": "markdown",
   "metadata": {},
   "source": [
    "#### If Statments \n",
    "\n",
    "The ``if`` statement allows for selecting from alternative actions based on conditional expression results. \n",
    "\n",
    "Notes: \n",
    " - There needs to be a colon (``:``) after the end of the condition (or the ``else`` keyword) to signal the beginning of the clause block \n",
    " - Both the ``elif`` and ``else`` statements are optional.\n",
    " - Parentheses around the conditional expressions are optional. \n",
    " - Lines below the ``if``, ``elif``, or ``else`` must be indented over 4 spaces."
   ]
  },
  {
   "cell_type": "code",
   "execution_count": 1,
   "metadata": {},
   "outputs": [
    {
     "name": "stdout",
     "output_type": "stream",
     "text": [
      "Sun Conure\n"
     ]
    }
   ],
   "source": [
    "bird_weight_in_grams = 131\n",
    "\n",
    "#Determine the likely subspecies of bird based on weight\n",
    "if bird_weight_in_grams < 100:\n",
    "    print(\"Budgie\")\n",
    "elif bird_weight_in_grams < 200: #Else if clause, if the first condition fails then we try the next else if\n",
    "    print(\"Sun Conure\")\n",
    "elif bird_weight_in_grams < 1000:\n",
    "    print(\"Toucan\")\n",
    "else: \n",
    "    print(\"Maccaw\")"
   ]
  },
  {
   "cell_type": "markdown",
   "metadata": {},
   "source": [
    "### For statements \n",
    "\n",
    "The ``for`` statement is a looping statement that steps through items in any sequence or *iterable object* (more on this later...)"
   ]
  },
  {
   "cell_type": "code",
   "execution_count": 2,
   "metadata": {},
   "outputs": [
    {
     "name": "stdout",
     "output_type": "stream",
     "text": [
      "This bird weighs 55 grams and might be a Budgie\n",
      "This bird weighs 121 grams and might be a Sun Conure\n",
      "This bird weighs 650 grams and might be a Toucan\n",
      "This bird weighs 1400 grams and might be a Maccaw\n",
      "This bird weighs 340 grams and might be a Toucan\n"
     ]
    }
   ],
   "source": [
    "bird_weights = [55, 121, 650, 1400, 340]\n",
    "\n",
    "for weight in bird_weights: \n",
    "    species = ''\n",
    "    if weight < 100:\n",
    "        species = \"Budgie\"\n",
    "    elif weight < 200:\n",
    "        species = \"Sun Conure\"\n",
    "    elif weight < 1000:\n",
    "        species = \"Toucan\"\n",
    "    else: \n",
    "        species = \"Maccaw\"   \n",
    "    output = f'This bird weighs {weight} grams and might be a {species}'\n",
    "    print(output)"
   ]
  },
  {
   "cell_type": "code",
   "execution_count": 3,
   "metadata": {},
   "outputs": [
    {
     "name": "stdout",
     "output_type": "stream",
     "text": [
      "0\n",
      "1\n",
      "2\n",
      "3\n",
      "4\n",
      "5\n",
      "6\n",
      "7\n",
      "8\n",
      "9\n"
     ]
    }
   ],
   "source": [
    "# Useful For loop Idioms \n",
    "\n",
    "# Iterating over a range of numbers using range \n",
    "for num in range(10):\n",
    "    print(num)"
   ]
  },
  {
   "cell_type": "code",
   "execution_count": 4,
   "metadata": {},
   "outputs": [
    {
     "name": "stdout",
     "output_type": "stream",
     "text": [
      "2\n",
      "4\n",
      "6\n",
      "8\n",
      "10\n",
      "12\n",
      "14\n",
      "16\n",
      "18\n",
      "20\n"
     ]
    }
   ],
   "source": [
    "# Iterating over first 20 even numbers \n",
    "for even_num in range(2,21,2): # 21 because the stop is exclusive \n",
    "    print(even_num)"
   ]
  },
  {
   "cell_type": "code",
   "execution_count": 5,
   "metadata": {},
   "outputs": [
    {
     "name": "stdout",
     "output_type": "stream",
     "text": [
      "Index = 0, Bird Weight = 55\n",
      "Index = 1, Bird Weight = 121\n",
      "Index = 2, Bird Weight = 650\n",
      "Index = 3, Bird Weight = 1400\n",
      "Index = 4, Bird Weight = 340\n"
     ]
    }
   ],
   "source": [
    "# Iterating over a collection of items and their indicies \n",
    "# Call the \"enumerate\" function on the sequence \n",
    "bird_weights = [55, 121, 650, 1400, 340]\n",
    "\n",
    "for index, element in enumerate(bird_weights):\n",
    "    print(f'Index = {index}, Bird Weight = {element}')"
   ]
  },
  {
   "cell_type": "markdown",
   "metadata": {},
   "source": [
    "### While Statement \n",
    "\n",
    "A ``while`` loop repeatedly executes a block of statements as long as its condition expression evaluates to a ``True`` value."
   ]
  },
  {
   "cell_type": "code",
   "execution_count": 6,
   "metadata": {},
   "outputs": [
    {
     "name": "stdout",
     "output_type": "stream",
     "text": [
      "This bird weighing 1400 grams is a big honkin' bird!\n"
     ]
    }
   ],
   "source": [
    "bird_weights = [55, 121, 650, 1400, 340]\n",
    "\n",
    "large_bird_spotted = False\n",
    "index = 0\n",
    "while not large_bird_spotted: \n",
    "    bird_weight = bird_weights[index]\n",
    "    index = index + 1\n",
    "    if bird_weight > 1000:\n",
    "        large_bird_spotted = True \n",
    "        break\n",
    "    else:\n",
    "        continue \n",
    "        \n",
    "print(f\"This bird weighing {bird_weight} grams is a big honkin' bird!\")"
   ]
  },
  {
   "cell_type": "code",
   "execution_count": null,
   "metadata": {},
   "outputs": [],
   "source": []
  }
 ],
 "metadata": {
  "kernelspec": {
   "display_name": "Python 3",
   "language": "python",
   "name": "python3"
  },
  "language_info": {
   "codemirror_mode": {
    "name": "ipython",
    "version": 3
   },
   "file_extension": ".py",
   "mimetype": "text/x-python",
   "name": "python",
   "nbconvert_exporter": "python",
   "pygments_lexer": "ipython3",
   "version": "3.8.8"
  }
 },
 "nbformat": 4,
 "nbformat_minor": 1
}
