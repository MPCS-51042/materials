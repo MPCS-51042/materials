{
 "cells": [
  {
   "cell_type": "markdown",
   "metadata": {},
   "source": [
    "### Video Explanation [Available Here](https://www.youtube.com/watch?v=-3nnJXiB_x0)!\n",
    "\n",
    "#### Variables \n",
    "\n",
    "A *variable* in Python has the following syntax: "
   ]
  },
  {
   "cell_type": "code",
   "execution_count": null,
   "metadata": {},
   "outputs": [],
   "source": [
    "x = 1234"
   ]
  },
  {
   "cell_type": "code",
   "execution_count": null,
   "metadata": {},
   "outputs": [],
   "source": [
    "y = True"
   ]
  },
  {
   "cell_type": "code",
   "execution_count": null,
   "metadata": {},
   "outputs": [],
   "source": [
    "z = 4"
   ]
  },
  {
   "cell_type": "markdown",
   "metadata": {},
   "source": [
    " - Each ``variable_name`` should be in all lowercase letters with words seperated by an underscore.\n",
    " - Constant variables should be all uppercase characters with words seperated by an underscore (``CONSTANT_NAME``). \n",
    " \n",
    " We can assign any expression to a variable:"
   ]
  },
  {
   "cell_type": "code",
   "execution_count": null,
   "metadata": {},
   "outputs": [],
   "source": [
    "var = x + z \n",
    "var"
   ]
  },
  {
   "cell_type": "markdown",
   "metadata": {},
   "source": [
    "#### Types \n",
    "\n",
    "We did not specify the type for the above variables. This is because Python is a *dynamically-typed* language: it automatically infers varible types. Ruby does this, too.\n",
    "\n",
    "By contrast, Java, Kotlin, and C/C++, are *statically-typed* and require the programmer to specify the type of every variable. For example, in Java we would need to declare the variable ``x`` from above as: \n",
    "\n",
    "    int x = 1234; \n",
    "\n",
    "At any point you can determine the inferred type for a variable by using the ``type(variable_name)`` function. "
   ]
  },
  {
   "cell_type": "code",
   "execution_count": null,
   "metadata": {},
   "outputs": [],
   "source": [
    "bird_call = \"Polly wanna cracker!\"\n",
    "type(bird_call)"
   ]
  },
  {
   "cell_type": "markdown",
   "metadata": {},
   "source": [
    "### Python built-in functions\n",
    "\n",
    "![](../images/built-in-functions.png)\n",
    "\n",
    "When you're looking for how to do something in Python, the [Python documentation](https://docs.python.org/3/library/functions.html) should have the information you need."
   ]
  },
  {
   "cell_type": "markdown",
   "metadata": {},
   "source": [
    "#### Core Data Types \n",
    "\n",
    "As with other programming languages, Python provides built-in core types: \n",
    "   \n",
    " - Numeric types: ``int``, ``float``, ``complex``\n",
    " - Sequence types: ``str``, ``list``, ``tuple`` \n",
    " - Boolean: ``bool``\n",
    " - Set types: ``set``\n",
    " - Mapping types: ``dict``\n",
    " "
   ]
  },
  {
   "cell_type": "markdown",
   "metadata": {},
   "source": [
    "#### Numeric Types \n",
    "\n",
    "The following diagram provides examples of numeric values in Python: \n",
    "\n",
    "  ![alt text](../images/literals.png \"Learning Python 2013\") -- <cite>Learning Python 2013</cite>\n",
    "  \n",
    " - Specialized numeric types (e.g., Fraction or Decimal) can be imported from the standard library.\n",
    " \n",
    " - Explicit conversion of the numeric types are done using the\n",
    " ``int()``, ``float()`` and ``complex()`` functions.\n"
   ]
  },
  {
   "cell_type": "code",
   "execution_count": null,
   "metadata": {},
   "outputs": [],
   "source": [
    "x = 235\n",
    "x"
   ]
  },
  {
   "cell_type": "code",
   "execution_count": null,
   "metadata": {},
   "outputs": [],
   "source": [
    "y = float(x) #convert the integer value for x into a float value \n",
    "y"
   ]
  },
  {
   "cell_type": "markdown",
   "metadata": {},
   "source": [
    "#### Numeric Expressions/Operators \n",
    "\n",
    "The following diagram provides examples of defining numeric expressions using the common numeric operators provided in Python: \n",
    "\n",
    "  ![alt text](../images/Operators.png \"Learning Python 2013\") -- <cite>Learning Python 2013</cite>"
   ]
  },
  {
   "cell_type": "markdown",
   "metadata": {},
   "source": [
    "####  Arithmetic Conversion \n",
    "\n",
    "Mixed arithmetic is allowed. Python converts operands up to the type of the most complicated operand. Converting up is also done at the expression level.\n",
    "\n",
    " - Highest to lowest: complex numbers -> floating point numbers -> integers"
   ]
  },
  {
   "cell_type": "code",
   "execution_count": null,
   "metadata": {},
   "outputs": [],
   "source": [
    "34 + 3.2 # Conversion = 34.0 + 3.2 = 37.2"
   ]
  },
  {
   "cell_type": "code",
   "execution_count": null,
   "metadata": {},
   "outputs": [],
   "source": [
    "(3 + 5) - 4.0 # Conversion = (3.0 + 5.0) - 4.0 = 4.0"
   ]
  },
  {
   "cell_type": "markdown",
   "metadata": {},
   "source": [
    "#### Boolean type \n",
    "\n",
    "The values that represent booleans are ``True`` and ``False``."
   ]
  },
  {
   "cell_type": "markdown",
   "metadata": {},
   "source": [
    "####  Relational Operators:\n",
    " \n",
    "| Syntax     | Definition                                                      |\n",
    "| ---        | ---                                                             |\n",
    "| ``x > y``  | ``True`` if left operand is greater than the right              |\n",
    "| ``x < y``  | ``True`` if left operand is less than the right                 |\n",
    "| ``x == y`` | ``True`` if both operands are equal                             |\n",
    "| ``x != y`` | ``True`` if both operands are not equal                         |\n",
    "| ``x >= y`` | ``True`` if left operand is greater than or equal to the right  |\n",
    "| ``x <= y`` | ``True`` if left operand is less than or equal to the right     |"
   ]
  },
  {
   "cell_type": "code",
   "execution_count": 1,
   "metadata": {},
   "outputs": [
    {
     "data": {
      "text/plain": [
       "False"
      ]
     },
     "execution_count": 1,
     "metadata": {},
     "output_type": "execute_result"
    }
   ],
   "source": [
    "13 <= 12"
   ]
  },
  {
   "cell_type": "code",
   "execution_count": 2,
   "metadata": {},
   "outputs": [
    {
     "data": {
      "text/plain": [
       "True"
      ]
     },
     "execution_count": 2,
     "metadata": {},
     "output_type": "execute_result"
    }
   ],
   "source": [
    "7 == 7"
   ]
  },
  {
   "cell_type": "markdown",
   "metadata": {},
   "source": [
    "#### Logical Operators \n",
    "\n",
    "| Syntax      | Definition                                         |\n",
    "| ---         | ---                                                |\n",
    "| ``x and y`` | ``True`` if both the operands are true             |\n",
    "| ``x or y``  | ``True`` if either of the operands is true         |\n",
    "| ``not x``   | ``True`` True if operand is false                  |"
   ]
  },
  {
   "cell_type": "code",
   "execution_count": null,
   "metadata": {},
   "outputs": [],
   "source": [
    "3 <= 12 and 4 >= 4"
   ]
  },
  {
   "cell_type": "code",
   "execution_count": null,
   "metadata": {},
   "outputs": [],
   "source": [
    "b = False \n",
    "not b"
   ]
  },
  {
   "cell_type": "markdown",
   "metadata": {},
   "source": [
    "These operators *short-circuit* (i.e., when an expression is stopped being evaluated as soon as its outcome is determined.) \n"
   ]
  },
  {
   "cell_type": "code",
   "execution_count": 4,
   "metadata": {},
   "outputs": [],
   "source": [
    "def do_i_get_run():\n",
    "    print(\"I got run!\")"
   ]
  },
  {
   "cell_type": "code",
   "execution_count": 5,
   "metadata": {},
   "outputs": [
    {
     "data": {
      "text/plain": [
       "True"
      ]
     },
     "execution_count": 5,
     "metadata": {},
     "output_type": "execute_result"
    }
   ],
   "source": [
    "True or do_i_get_run()"
   ]
  },
  {
   "cell_type": "code",
   "execution_count": 6,
   "metadata": {},
   "outputs": [
    {
     "data": {
      "text/plain": [
       "False"
      ]
     },
     "execution_count": 6,
     "metadata": {},
     "output_type": "execute_result"
    }
   ],
   "source": [
    "False and do_i_get_run()"
   ]
  },
  {
   "cell_type": "markdown",
   "metadata": {},
   "source": [
    "#### None Type \n",
    "\n",
    "Most application programming languages have a value that represents the absence of a value. \n",
    "\n",
    "In Java, C, C++, Kotlin, and SQL, it's `null`.\n",
    "\n",
    "In Ruby, Swift, and Lisp, it's `nil`.\n",
    "\n",
    "In Python, it's ``None``. "
   ]
  },
  {
   "cell_type": "code",
   "execution_count": 7,
   "metadata": {},
   "outputs": [
    {
     "name": "stdout",
     "output_type": "stream",
     "text": [
      "None\n"
     ]
    }
   ],
   "source": [
    "x = None \n",
    "print(x)"
   ]
  },
  {
   "cell_type": "code",
   "execution_count": 8,
   "metadata": {},
   "outputs": [
    {
     "ename": "TypeError",
     "evalue": "object of type 'NoneType' has no len()",
     "output_type": "error",
     "traceback": [
      "\u001b[0;31m---------------------------------------------------------------------------\u001b[0m",
      "\u001b[0;31mTypeError\u001b[0m                                 Traceback (most recent call last)",
      "\u001b[0;32m<ipython-input-8-a7f4a5366567>\u001b[0m in \u001b[0;36m<module>\u001b[0;34m\u001b[0m\n\u001b[0;32m----> 1\u001b[0;31m \u001b[0mlen\u001b[0m\u001b[0;34m(\u001b[0m\u001b[0mx\u001b[0m\u001b[0;34m)\u001b[0m\u001b[0;34m\u001b[0m\u001b[0;34m\u001b[0m\u001b[0m\n\u001b[0m",
      "\u001b[0;31mTypeError\u001b[0m: object of type 'NoneType' has no len()"
     ]
    }
   ],
   "source": [
    "len(x)"
   ]
  },
  {
   "cell_type": "code",
   "execution_count": null,
   "metadata": {},
   "outputs": [],
   "source": []
  }
 ],
 "metadata": {
  "kernelspec": {
   "display_name": "Python 3",
   "language": "python",
   "name": "python3"
  },
  "language_info": {
   "codemirror_mode": {
    "name": "ipython",
    "version": 3
   },
   "file_extension": ".py",
   "mimetype": "text/x-python",
   "name": "python",
   "nbconvert_exporter": "python",
   "pygments_lexer": "ipython3",
   "version": "3.8.8"
  }
 },
 "nbformat": 4,
 "nbformat_minor": 1
}
