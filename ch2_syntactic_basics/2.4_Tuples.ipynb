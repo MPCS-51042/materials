{
 "cells": [
  {
   "cell_type": "markdown",
   "metadata": {},
   "source": [
    "### Video Explanation [Available Here](https://www.youtube.com/watch?v=v1BzeCuF9_Q)!\n",
    "\n",
    "\n",
    "### Tuples \n",
    "\n",
    "A ``tuple`` is an immutable sequence of arbitrary objects that are also:\n",
    "  \n",
    "  - Fixed-length\n",
    "  - Heterogeneous\n",
    "  - Arbitrarily nestable\n",
    "\n",
    "### Making a Tuple: "
   ]
  },
  {
   "cell_type": "code",
   "execution_count": 1,
   "metadata": {},
   "outputs": [
    {
     "data": {
      "text/plain": [
       "()"
      ]
     },
     "execution_count": 1,
     "metadata": {},
     "output_type": "execute_result"
    }
   ],
   "source": [
    "# Empty Tuple\n",
    "tup = () \n",
    "tup"
   ]
  },
  {
   "cell_type": "code",
   "execution_count": 2,
   "metadata": {},
   "outputs": [
    {
     "data": {
      "text/plain": [
       "(0,)"
      ]
     },
     "execution_count": 2,
     "metadata": {},
     "output_type": "execute_result"
    }
   ],
   "source": [
    "# A one-item tuple (not an expression)\n",
    "tup = (0,) \n",
    "tup "
   ]
  },
  {
   "cell_type": "markdown",
   "metadata": {},
   "source": [
    "**Waaaait a second.**. Why can't we just say `(0)`?\n",
    "\n",
    "Let's try it!"
   ]
  },
  {
   "cell_type": "code",
   "execution_count": 3,
   "metadata": {},
   "outputs": [
    {
     "data": {
      "text/plain": [
       "0"
      ]
     },
     "execution_count": 3,
     "metadata": {},
     "output_type": "execute_result"
    }
   ],
   "source": [
    "(0)"
   ]
  },
  {
   "cell_type": "markdown",
   "metadata": {},
   "source": [
    "It's because Python uses parentheses for something _besides_ tuples: grouping expressions together. Suppose I did this:"
   ]
  },
  {
   "cell_type": "code",
   "execution_count": 4,
   "metadata": {},
   "outputs": [
    {
     "name": "stdout",
     "output_type": "stream",
     "text": [
      "I have 0 chocolates saved for later.\n"
     ]
    }
   ],
   "source": [
    "number_of_chocolates_in_my_bowl = 7\n",
    "number_of_chocolates_I_ate = 7\n",
    "\n",
    "print(f\"I have {(number_of_chocolates_in_my_bowl - number_of_chocolates_I_ate)} chocolates saved for later.\")"
   ]
  },
  {
   "cell_type": "markdown",
   "metadata": {},
   "source": [
    "We use parentheses to tell Python to _evaluate_ that subtraction expression before applying the result anywhere. What we get from 7 - 7 is 0, so Python then interprets:"
   ]
  },
  {
   "cell_type": "code",
   "execution_count": 5,
   "metadata": {},
   "outputs": [
    {
     "name": "stdout",
     "output_type": "stream",
     "text": [
      "I have 0 chocolates saved for later.\n"
     ]
    }
   ],
   "source": [
    "print(f\"I have {(0)} chocolates saved for later.\")"
   ]
  },
  {
   "cell_type": "markdown",
   "metadata": {},
   "source": [
    "And the zero there isn't a tuple. It's just a value, inside some parentheses that told the interpreter to evaluate it. The comma is used to differentiate a single-item tuple from a single value that just happens to have parentheses around it."
   ]
  },
  {
   "cell_type": "code",
   "execution_count": 6,
   "metadata": {},
   "outputs": [
    {
     "name": "stdout",
     "output_type": "stream",
     "text": [
      "(0, 'Ni', 1.2, 3)\n",
      "(0, 'Ni', 1.2, 3)\n"
     ]
    }
   ],
   "source": [
    "# A four-item tuple  \n",
    "tup = (0, 'Ni', 1.2, 3)\n",
    "\n",
    "# Another four-item tuple (same as prior line) without the need for the parenthesis \n",
    "tup2 = 0, 'Ni', 1.2, 3 \n",
    "\n",
    "print(tup)\n",
    "print(tup2)"
   ]
  },
  {
   "cell_type": "markdown",
   "metadata": {},
   "source": [
    "*Aside*: It seems that lists and tuples are the same. They both hold a collection of values but they have slightly different syntax. **When should you use one over the other**?\n",
    "\n",
    "- When you need to _change_ the values in the collection"
   ]
  },
  {
   "cell_type": "markdown",
   "metadata": {},
   "source": [
    "**By the way**, when you return multiple items from a method, the thing you get back is a tuple."
   ]
  },
  {
   "cell_type": "code",
   "execution_count": 7,
   "metadata": {},
   "outputs": [
    {
     "data": {
      "text/plain": [
       "tuple"
      ]
     },
     "execution_count": 7,
     "metadata": {},
     "output_type": "execute_result"
    }
   ],
   "source": [
    "def two_things():\n",
    "    return \"one\", \"two\" #<--this is a tuple\n",
    "\n",
    "one, two = two_things()\n",
    "type(two_things())"
   ]
  },
  {
   "cell_type": "code",
   "execution_count": 8,
   "metadata": {},
   "outputs": [
    {
     "data": {
      "text/plain": [
       "'one'"
      ]
     },
     "execution_count": 8,
     "metadata": {},
     "output_type": "execute_result"
    }
   ],
   "source": [
    "one"
   ]
  },
  {
   "cell_type": "code",
   "execution_count": 9,
   "metadata": {},
   "outputs": [
    {
     "data": {
      "text/plain": [
       "'two'"
      ]
     },
     "execution_count": 9,
     "metadata": {},
     "output_type": "execute_result"
    }
   ],
   "source": [
    "two"
   ]
  },
  {
   "cell_type": "code",
   "execution_count": null,
   "metadata": {},
   "outputs": [],
   "source": []
  }
 ],
 "metadata": {
  "kernelspec": {
   "display_name": "Python 3",
   "language": "python",
   "name": "python3"
  },
  "language_info": {
   "codemirror_mode": {
    "name": "ipython",
    "version": 3
   },
   "file_extension": ".py",
   "mimetype": "text/x-python",
   "name": "python",
   "nbconvert_exporter": "python",
   "pygments_lexer": "ipython3",
   "version": "3.8.8"
  }
 },
 "nbformat": 4,
 "nbformat_minor": 4
}
