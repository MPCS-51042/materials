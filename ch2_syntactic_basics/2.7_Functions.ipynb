{
 "cells": [
  {
   "cell_type": "markdown",
   "metadata": {},
   "source": [
    "### Video Explanation [Available Here](https://www.youtube.com/watch?v=stCCrAx-z_k)!\n",
    "\n",
    "\n",
    "### Functions \n",
    "\n",
    "A *function* is a set of statements that can be called more than once. \n",
    "\n",
    "Benefits of functions:\n",
    " - Encapsulation: package logic for use in multiple places\n",
    " - Procedural decomposition: split our program into subtasks (i.e., functions) with separate roles.\n",
    " - Make life easier for debugging, testing, doing maintenance on code"
   ]
  },
  {
   "cell_type": "markdown",
   "metadata": {},
   "source": [
    "### Steps to define a function:\n",
    " \n",
    " 1. The ``def`` defines a new function called ``name``.\n",
    " 2. Define zero or more parameters separated by commas in parentheses\n",
    " 3. A colon to indicate the beginning of the function body.\n",
    " 4. Functions ca define a **docstring** that provides a description of the function.\n",
    " 4. Statements inside function are indented and don’t run until the function is called\n",
    " 5. ``return`` can appear anywhere in body of function\n",
    "    - Can also be omitted. A function that does not return a value will return ``None`` by default. \n",
    "\n",
    "\n"
   ]
  },
  {
   "cell_type": "code",
   "execution_count": 1,
   "metadata": {},
   "outputs": [
    {
     "name": "stdout",
     "output_type": "stream",
     "text": [
      "Budgie\n",
      "Toucan\n"
     ]
    }
   ],
   "source": [
    "def identify_bird(weight): \n",
    "    '''\n",
    "    Identifies birds (approximately) by their weight \n",
    "    \n",
    "    Inputs: \n",
    "       weight(float): the bird's weight in grams \n",
    "    \n",
    "    Output:\n",
    "       Returns the likely species of the bird as a string\n",
    "    \n",
    "    '''\n",
    "    species = ''\n",
    "    if weight < 100:\n",
    "        species = \"Budgie\"\n",
    "    elif weight < 200:\n",
    "        species = \"Sun Conure\"\n",
    "    elif weight < 1000:\n",
    "        species = \"Toucan\"\n",
    "    else: \n",
    "        species = \"Maccaw\"   \n",
    "        \n",
    "    return species \n",
    "\n",
    "# Call the function by specifying its name followed by any necessary arguments to the function \n",
    "print(identify_bird(17))\n",
    "print(identify_bird(240))"
   ]
  },
  {
   "cell_type": "markdown",
   "metadata": {},
   "source": [
    "#### Pass statement \n",
    "\n",
    "The ``pass`` statement useful when you are not ready to write the implementation for a code block. The statement allows the interpreter to perform no operation and to continue processing the next statement. "
   ]
  },
  {
   "cell_type": "code",
   "execution_count": 2,
   "metadata": {},
   "outputs": [
    {
     "name": "stdout",
     "output_type": "stream",
     "text": [
      "----begin processing bird weights---\n",
      "None\n",
      "None\n",
      "Done.\n"
     ]
    }
   ],
   "source": [
    "def identify_bird(weight): \n",
    "    '''\n",
    "    Identifies birds (approximately) by their weight \n",
    "    \n",
    "    Inputs: \n",
    "       weight(float): the bird's weight in grams \n",
    "    \n",
    "    Output:\n",
    "       Returns the likely species of the bird as a string\n",
    "    \n",
    "    '''\n",
    "    pass # IMPLEMENT ME\n",
    "\n",
    "print(\"----begin processing bird weights---\")\n",
    "print(identify_bird(450)) # No error, prints None because we do not have a return statement so None is returned \n",
    "print(identify_bird(1500)) # No error, prints None because we do not have a return statement so None is returned \n",
    "print(\"Done.\")"
   ]
  },
  {
   "cell_type": "code",
   "execution_count": 3,
   "metadata": {},
   "outputs": [
    {
     "name": "stdout",
     "output_type": "stream",
     "text": [
      "Start\n",
      "Done\n"
     ]
    }
   ],
   "source": [
    "# Pass can be used in any code block statements: loops, classes (later), functions, etc. \n",
    "\n",
    "print(\"Start\")\n",
    "for r in range(10):\n",
    "    pass \n",
    "print(\"Done\")"
   ]
  },
  {
   "cell_type": "code",
   "execution_count": null,
   "metadata": {},
   "outputs": [],
   "source": []
  }
 ],
 "metadata": {
  "kernelspec": {
   "display_name": "Python 3",
   "language": "python",
   "name": "python3"
  },
  "language_info": {
   "codemirror_mode": {
    "name": "ipython",
    "version": 3
   },
   "file_extension": ".py",
   "mimetype": "text/x-python",
   "name": "python",
   "nbconvert_exporter": "python",
   "pygments_lexer": "ipython3",
   "version": "3.8.8"
  }
 },
 "nbformat": 4,
 "nbformat_minor": 4
}
