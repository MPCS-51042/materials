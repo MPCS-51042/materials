{
 "cells": [
  {
   "cell_type": "markdown",
   "metadata": {},
   "source": [
    "### Video Explanation [Available Here](https://www.youtube.com/watch?v=MFCmUT75Ejc)!\n",
    "\n",
    "\n",
    "### Module Basics \n",
    "\n",
    "Python programs can be defined in ``.py`` files. These files are also known as *modules*. A module is a file containing Python definitions and statements. The file name is the module name minus the ``.py`` suffix. \n",
    "\n",
    "**What if you want these files to interact with each other (i.e., call functions, use variables from different modules)?**\n",
    "\n",
    "  - Modules *import* other modules by using the ``import`` statement. \n",
    "         - ``import module_name`` \n",
    "         -  Import statements should be placed at the beginning of a python file. \n",
    "  - Once imported, you can access the definitions and statements within the module. \n",
    "         - default way to access variables and statements is to use dot notation, where you specify the name of the module followed by a period, and then the code you want to access. \n",
    "          - ``module_name.variable`` or ``module_name.func(arg1,arg2,...)`` \n",
    "\n",
    "Python provides an extensive amount of predefined modules as part of its standard library. We will look at the ``math`` module and see how we can import and use the code within that module. "
   ]
  },
  {
   "cell_type": "code",
   "execution_count": 1,
   "metadata": {},
   "outputs": [
    {
     "name": "stdout",
     "output_type": "stream",
     "text": [
      "3.141592653589793\n",
      "232.0\n"
     ]
    }
   ],
   "source": [
    "# 1st import the math module \n",
    "import math \n",
    "\n",
    "print(math.pi)          # Print the constant PI from the math module.\n",
    "print(math.fabs(-232))  # Call the floating point abs function from the math module b"
   ]
  },
  {
   "cell_type": "markdown",
   "metadata": {},
   "source": [
    "You can also use just the name of the variable or function by importing it like so:"
   ]
  },
  {
   "cell_type": "code",
   "execution_count": 2,
   "metadata": {},
   "outputs": [
    {
     "name": "stdout",
     "output_type": "stream",
     "text": [
      "3.141592653589793\n"
     ]
    }
   ],
   "source": [
    "from math import pi\n",
    "\n",
    "print(pi)"
   ]
  },
  {
   "cell_type": "code",
   "execution_count": null,
   "metadata": {},
   "outputs": [],
   "source": []
  }
 ],
 "metadata": {
  "kernelspec": {
   "display_name": "Python 3",
   "language": "python",
   "name": "python3"
  },
  "language_info": {
   "codemirror_mode": {
    "name": "ipython",
    "version": 3
   },
   "file_extension": ".py",
   "mimetype": "text/x-python",
   "name": "python",
   "nbconvert_exporter": "python",
   "pygments_lexer": "ipython3",
   "version": "3.8.8"
  }
 },
 "nbformat": 4,
 "nbformat_minor": 4
}
