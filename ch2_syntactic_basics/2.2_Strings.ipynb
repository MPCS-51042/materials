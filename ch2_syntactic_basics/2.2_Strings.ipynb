{
 "cells": [
  {
   "cell_type": "markdown",
   "metadata": {},
   "source": [
    "### Video Explanation [Available Here](https://www.youtube.com/watch?v=4XpKfehAHrw)!\n",
    "\n",
    "#### Strings \n",
    "\n",
    "Strings (i.e., ``str`` type in Python) are used to record both textual information and arbitrary collections of bytes."
   ]
  },
  {
   "cell_type": "code",
   "execution_count": 1,
   "metadata": {},
   "outputs": [
    {
     "data": {
      "text/plain": [
       "'Polly wanna cracker!'"
      ]
     },
     "execution_count": 1,
     "metadata": {},
     "output_type": "execute_result"
    }
   ],
   "source": [
    "birdie_says = \"Polly wanna cracker!\"\n",
    "birdie_says"
   ]
  },
  {
   "cell_type": "markdown",
   "metadata": {},
   "source": [
    " - Strings are *immutable sequences*: positionally ordered collections of other objects that cannot be modified.\n",
    "\n",
    " - String transformation operations/functions always produce new ``str`` values."
   ]
  },
  {
   "cell_type": "code",
   "execution_count": 4,
   "metadata": {},
   "outputs": [
    {
     "data": {
      "text/plain": [
       "140701136175728"
      ]
     },
     "execution_count": 4,
     "metadata": {},
     "output_type": "execute_result"
    }
   ],
   "source": [
    "hi = \"Hi\"\n",
    "first_id = id(hi)\n",
    "first_id\n",
    "#id() unique id during lifetime"
   ]
  },
  {
   "cell_type": "code",
   "execution_count": 5,
   "metadata": {},
   "outputs": [
    {
     "data": {
      "text/plain": [
       "140701136129776"
      ]
     },
     "execution_count": 5,
     "metadata": {},
     "output_type": "execute_result"
    }
   ],
   "source": [
    "hi = hi.capitalize()\n",
    "modified_id = id(hi)\n",
    "modified_id"
   ]
  },
  {
   "cell_type": "code",
   "execution_count": 6,
   "metadata": {},
   "outputs": [
    {
     "data": {
      "text/plain": [
       "False"
      ]
     },
     "execution_count": 6,
     "metadata": {},
     "output_type": "execute_result"
    }
   ],
   "source": [
    "first_id == modified_id"
   ]
  },
  {
   "cell_type": "markdown",
   "metadata": {},
   "source": [
    " ### Ways to define a ``str`` in Python:"
   ]
  },
  {
   "cell_type": "code",
   "execution_count": 7,
   "metadata": {},
   "outputs": [
    {
     "name": "stdout",
     "output_type": "stream",
     "text": [
      "spa\"m\n"
     ]
    },
    {
     "data": {
      "text/plain": [
       "str"
      ]
     },
     "execution_count": 7,
     "metadata": {},
     "output_type": "execute_result"
    }
   ],
   "source": [
    "# Single quote literal\n",
    "# Allows you to embed double quotes (\") inside the string \n",
    "str1 = 'spa\"m'\n",
    "print(str1)\n",
    "type(str1)"
   ]
  },
  {
   "cell_type": "code",
   "execution_count": 8,
   "metadata": {},
   "outputs": [
    {
     "name": "stdout",
     "output_type": "stream",
     "text": [
      "sp\"a'm\n"
     ]
    }
   ],
   "source": [
    "# Double quote literal\n",
    "# Allows you to embed double quotes (') inside the string \n",
    "str2 = \"sp\\\"a'm\"\n",
    "print(str2)"
   ]
  },
  {
   "cell_type": "code",
   "execution_count": 9,
   "metadata": {},
   "outputs": [
    {
     "name": "stdout",
     "output_type": "stream",
     "text": [
      "Here is a list of names all on different lines \n",
      "\"\"Bob\"\n",
      "\"Sally\" \n",
      "\"Joe\" \n",
      "\"Karen\"\n"
     ]
    }
   ],
   "source": [
    "# Triple quote literal (multi-line strings)\n",
    "# Multi-line strings include the newlines \n",
    "str3 = '''Here is a list of names all on different lines \n",
    "\"\"Bob\"\n",
    "\"Sally\" \n",
    "\"Joe\" \n",
    "\"Karen\"'''\n",
    "print(str3) # Notice the newlines are preserved"
   ]
  },
  {
   "cell_type": "code",
   "execution_count": 10,
   "metadata": {},
   "outputs": [
    {
     "name": "stdout",
     "output_type": "stream",
     "text": [
      "Here is a list of names all on different lines \n",
      "'Bob'\n",
      "'Sally' \n",
      "'Joe'\n",
      "'Karen'\n"
     ]
    }
   ],
   "source": [
    "# Double quote version (multi-line strings) \n",
    "# Allows for escaping single quotes ''\n",
    "str3 = \"\"\"Here is a list of names all on different lines \n",
    "'Bob'\n",
    "'Sally' \n",
    "'Joe'\n",
    "'Karen'\"\"\"\n",
    "print(str3)"
   ]
  },
  {
   "cell_type": "code",
   "execution_count": 11,
   "metadata": {},
   "outputs": [
    {
     "name": "stdout",
     "output_type": "stream",
     "text": [
      "Bob\tSally\n",
      "Joe\n"
     ]
    }
   ],
   "source": [
    "# As with other languages, you can have escape characters in strings \n",
    "# \\t - tab character \n",
    "# \\n - newline character\n",
    "# Many others: https://www.w3schools.com/python/gloss_python_escape_characters.asp\n",
    "str5 = \"Bob\\tSally\\nJoe\"\n",
    "print(str5)\n",
    "str6 = 'Bob\\tSally\\nJoe'"
   ]
  },
  {
   "cell_type": "code",
   "execution_count": 12,
   "metadata": {},
   "outputs": [
    {
     "name": "stdout",
     "output_type": "stream",
     "text": [
      "C:\\new\\test.py\n",
      "----\n",
      "C:\n",
      "ew\test.py\n"
     ]
    }
   ],
   "source": [
    "#Below is an example of \"raw strings\", which include escape characters \n",
    "# a raw string always begins with a \"r\" before the string syntax \n",
    "str7 = r'C:\\new\\test.py' \n",
    "non_raw_str7 = 'C:\\new\\test.py'\n",
    "\n",
    "#Notice the strings actually contain the \\n and \\t in the ouput versus \n",
    "# the non-raw versions \n",
    "print(str7) \n",
    "print(\"----\")\n",
    "print(non_raw_str7)"
   ]
  },
  {
   "cell_type": "markdown",
   "metadata": {},
   "source": [
    "###  String Formatting \n",
    "\n",
    "Formattting allows you to incorporate values from other types to produce a new string. "
   ]
  },
  {
   "cell_type": "code",
   "execution_count": 13,
   "metadata": {},
   "outputs": [
    {
     "name": "stdout",
     "output_type": "stream",
     "text": [
      "Address = 4543 Bird Sanctuary Road\n"
     ]
    }
   ],
   "source": [
    "# By relative position '{}' using the \"format\" method. \n",
    "# Auto-conversion for non-strings. \n",
    "f_str = 'Address = {} {} {}'.format(4543, 'Bird Sanctuary', 'Road')\n",
    "print(f_str)"
   ]
  },
  {
   "cell_type": "code",
   "execution_count": 14,
   "metadata": {},
   "outputs": [
    {
     "name": "stdout",
     "output_type": "stream",
     "text": [
      "Hello gorgeous birdies and Bye Felicia\n"
     ]
    }
   ],
   "source": [
    "# By absolute position '{index}', where index is an integer \n",
    "f_str2 = 'Hello {2} {0} and Bye {1}'.format('birdies','Felicia','gorgeous')\n",
    "print(f_str2)"
   ]
  },
  {
   "cell_type": "code",
   "execution_count": 15,
   "metadata": {},
   "outputs": [
    {
     "name": "stdout",
     "output_type": "stream",
     "text": [
      "1 small flap for a bird, one giant leap for bird kind!\n"
     ]
    }
   ],
   "source": [
    "# By keyword. Specify keyword first followed by the value.\n",
    "\n",
    "#Here, I used a slash to split this expression into two lines in a notebook cell\n",
    "f_str3 = '{number} {action} for a bird, one giant leap for {beneficiaries}!'\\\n",
    "    .format(number = 1, action = 'small flap', beneficiaries = 'bird kind')\n",
    "print(f_str3)"
   ]
  },
  {
   "cell_type": "code",
   "execution_count": 16,
   "metadata": {},
   "outputs": [
    {
     "name": "stdout",
     "output_type": "stream",
     "text": [
      "Address = 4543 Bird Sanctuary Road\n"
     ]
    }
   ],
   "source": [
    "# New in Python 3.6+: formatted string literals. \n",
    "# IMPORTANT - Note the 'f'. This 'f' is required!\n",
    "\n",
    "#Define a few variables \n",
    "num = 4543 \n",
    "name = 'Bird Sanctuary'\n",
    "suffix = 'Road' \n",
    "\n",
    "# Directly place your expressions inside the curly braces\n",
    "f_str4 = f'Address = {num} {name} {suffix}'\n",
    "print(f_str4)"
   ]
  },
  {
   "cell_type": "markdown",
   "metadata": {},
   "source": [
    "The string formatting method includes additional options for formatting:\n",
    " \n",
    " - Precision: number of decimals for float objects \n",
    " - Hex, binary, or octal representation for ints\n",
    " - Justification options and whitespace padding\n",
    " \n",
    "Documentation:\n",
    " -  Zetcode \"Python f-string Tutorial: http://zetcode.com/python/fstring/"
   ]
  },
  {
   "cell_type": "code",
   "execution_count": null,
   "metadata": {},
   "outputs": [],
   "source": []
  }
 ],
 "metadata": {
  "kernelspec": {
   "display_name": "Python 3",
   "language": "python",
   "name": "python3"
  },
  "language_info": {
   "codemirror_mode": {
    "name": "ipython",
    "version": 3
   },
   "file_extension": ".py",
   "mimetype": "text/x-python",
   "name": "python",
   "nbconvert_exporter": "python",
   "pygments_lexer": "ipython3",
   "version": "3.8.8"
  }
 },
 "nbformat": 4,
 "nbformat_minor": 4
}
