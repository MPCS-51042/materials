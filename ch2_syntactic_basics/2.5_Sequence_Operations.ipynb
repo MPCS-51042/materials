{
 "cells": [
  {
   "cell_type": "markdown",
   "metadata": {},
   "source": [
    "### Video Explanation [Available Here](https://www.youtube.com/watch?v=xdG-mVEpzYE)!\n",
    "\n",
    "\n",
    "### Sequence Operations \n",
    "\n",
    "All sequence types (e.g., ``str``, ``list``, ``tuple``) support a series of useful operations: \n",
    "\n",
    "#### Length (``len``): \n",
    "       - Determines the size of a sequence value. \n",
    "       - The result is an integer value.  "
   ]
  },
  {
   "cell_type": "code",
   "execution_count": 1,
   "metadata": {},
   "outputs": [
    {
     "name": "stdout",
     "output_type": "stream",
     "text": [
      "4\n",
      "---\n",
      "3\n",
      "---\n",
      "5\n"
     ]
    }
   ],
   "source": [
    "# Length\n",
    "\n",
    "# Strings\n",
    "print(len('spam'))\n",
    "print('---')\n",
    "\n",
    "# Lists \n",
    "lst = ['a', 'b', 1]\n",
    "print(len(lst))\n",
    "print('---')\n",
    "\n",
    "# Tuples \n",
    "tup = (1,2,True,False,\"Hi\")\n",
    "print(len(tup))"
   ]
  },
  {
   "cell_type": "markdown",
   "metadata": {},
   "source": [
    "#### Concatenation(``+``): \n",
    "     - Combine sequence values together\n",
    "     - The result is a new sequence value  "
   ]
  },
  {
   "cell_type": "code",
   "execution_count": 2,
   "metadata": {},
   "outputs": [
    {
     "name": "stdout",
     "output_type": "stream",
     "text": [
      "hello world helloworld\n",
      "---\n",
      "['a', 4, 5, 6]\n",
      "---\n",
      "(1, 2, 3, 4)\n"
     ]
    }
   ],
   "source": [
    "# Concatenation \n",
    "\n",
    "# Strings \n",
    "str1 = 'hello ' + 'world ' + 'helloworld'\n",
    "print(str1)\n",
    "print('---')\n",
    "\n",
    "# Lists \n",
    "lst = ['a']\n",
    "new_lst =  lst + [4, 5, 6]\n",
    "print(new_lst)\n",
    "print('---')\n",
    "\n",
    "# Tuples \n",
    "print((1, 2) + (3, 4))"
   ]
  },
  {
   "cell_type": "markdown",
   "metadata": {},
   "source": [
    "#### Repetition(``*``):\n",
    "     - Repeat a sequence value a certain number times \n",
    "     - The result is a new sequence value \n"
   ]
  },
  {
   "cell_type": "code",
   "execution_count": 3,
   "metadata": {},
   "outputs": [
    {
     "name": "stdout",
     "output_type": "stream",
     "text": [
      "hihihihi\n",
      "---\n",
      "['a', 'a']\n",
      "---\n",
      "(1, 2, 1, 2, 1, 2, 1, 2)\n"
     ]
    }
   ],
   "source": [
    "# Repetition\n",
    "\n",
    "# Strings \n",
    "t = 'hi' * 4 \n",
    "print(t)\n",
    "print('---')\n",
    "\n",
    "# Lists \n",
    "new_lst = lst * 2 \n",
    "print(new_lst)\n",
    "print('---')\n",
    "\n",
    "# Tuples \n",
    "tup = (1,2)\n",
    "new_tup = tup * 4\n",
    "print(new_tup)"
   ]
  },
  {
   "cell_type": "markdown",
   "metadata": {},
   "source": [
    " #### Containment(``in``): \n",
    "      - Determines whether a sequence value is inside another one \n",
    "      - The result is a boolean value. \n"
   ]
  },
  {
   "cell_type": "code",
   "execution_count": 4,
   "metadata": {},
   "outputs": [
    {
     "name": "stdout",
     "output_type": "stream",
     "text": [
      "True\n",
      "False\n",
      "True\n",
      "---\n",
      "False\n",
      "True\n",
      "---\n",
      "False\n",
      "False\n",
      "True\n"
     ]
    }
   ],
   "source": [
    "# Containment\n",
    "\n",
    "# Strings\n",
    "print('M' in 'MPCS')\n",
    "print('T' in 'MPCS')\n",
    "print('CS' in 'CS') # Substring containment example \n",
    "print(\"---\")\n",
    "\n",
    "# Lists \n",
    "print(4 in lst)        # 4 is not in the list \n",
    "print ('a' in lst)     # 'a' is iniside the list \n",
    "print('---')\n",
    "\n",
    "# Tuples \n",
    "tup = (1, 2, True, False, \"Hi\")\n",
    "print(\"Bob\" in tup)\n",
    "print(\"2\" in tup)\n",
    "print(1 in tup)"
   ]
  },
  {
   "cell_type": "markdown",
   "metadata": {},
   "source": [
    "#### Sequence Indexing \n",
    "\n",
    "Sequence types provides the indexing notation (``S[i]``) to fetch a single item from the a sequence value."
   ]
  },
  {
   "cell_type": "code",
   "execution_count": 6,
   "metadata": {},
   "outputs": [
    {
     "name": "stdout",
     "output_type": "stream",
     "text": [
      "s\n",
      "a\n",
      "---\n",
      "a\n",
      "1\n",
      "['a', 'b', 1]\n",
      "[3, 5, 1]\n",
      "---\n",
      "False\n",
      "True\n"
     ]
    }
   ],
   "source": [
    "# Strings\n",
    "str1 = 'spam'\n",
    "print(str1[0])\n",
    "print(str1[2])\n",
    "print('---')\n",
    "\n",
    "# Lists \n",
    "lst = ['a', 'b', 1]\n",
    "print(lst[0])\n",
    "print(lst[2])\n",
    "\n",
    "# Since Lists are mutable we can use indexing to update the elements. \n",
    "# Remember you cannot due the following with strings or tuples because they are immutable! \n",
    "# If you try to update immutable sequences then an error will be raised. \n",
    "print(lst)  # Before update ['a','b', '1']\n",
    "lst[0] = 3 \n",
    "lst[1] = 5 \n",
    "print(lst)  # After updating [3,5,1]\n",
    "print('---')\n",
    "\n",
    "# Tuples \n",
    "tup = (1,2,True,False,\"Hi\")\n",
    "print(tup[3])\n",
    "print(tup[2])"
   ]
  },
  {
   "cell_type": "markdown",
   "metadata": {},
   "source": [
    "Python lists are **zero-indexed**: the first element has the index 0, the second element has the index 1, etc.\n",
    "    \n",
    "Python also allows you to use _negative_ indices to index from a list backward. However, in this direction, Python lists are one-indexed: the index -1 gets you the last element in the list.\n",
    "\n",
    "Why do you think this is?"
   ]
  },
  {
   "cell_type": "code",
   "execution_count": 7,
   "metadata": {},
   "outputs": [
    {
     "name": "stdout",
     "output_type": "stream",
     "text": [
      "m\n",
      "a\n",
      "---\n",
      "6\n",
      "['a', 'b', 'c']\n",
      "['Bob', 'World', 5, 'Hello']\n",
      "---\n",
      "Hi\n",
      "False\n"
     ]
    }
   ],
   "source": [
    "# Python allows for \"backwards indexing\". Placing a \"-\"\n",
    "# before the integer index will force indexing to begin from the end \n",
    "# of a sequence. \n",
    "\n",
    "# Strings \n",
    "str1 = 'spam'\n",
    "print(str1[-1]) # 'm' is the last character (-1) \n",
    "print(str1[-2]) # 'a' is the second to the last character (-2)\n",
    "print('---')\n",
    "\n",
    "# Lists \n",
    "lst = ['Bob', ['a','b','c'], 5, 6]\n",
    "print(lst[-1])  # 6 is the last element in the list (-1) \n",
    "print(lst[-3])  # ['a','b','c'] is the third to the last element (-3)\n",
    "\n",
    "# Since Lists are mutable we can use indexing to update the elements. \n",
    "# Remember you cannot due the following with strings or tuples because they are immutable! \n",
    "# If you try to update immutable sequences then an error will be raised. \n",
    "lst[-1] = \"Hello\"\n",
    "lst[-3] = \"World\"\n",
    "print(lst)\n",
    "print('---')\n",
    "\n",
    "\n",
    "# Tuples \n",
    "tup = (1,2,True,False,\"Hi\")\n",
    "print(tup[-1]) # \"Hi\" is the last element in the list (-1) \n",
    "print(tup[-2]) # False is the second to the last element (-2)"
   ]
  },
  {
   "cell_type": "markdown",
   "metadata": {},
   "source": [
    "#### Sequence Slicing \n",
    "\n",
    "Slicing is a from of sequence indexing, where it returns an entire section (i.e. a **copy**) of a sequence. \n",
    "\n",
    " - **Syntax**(``S[i:j]``): \n",
    "     - ``S`` is a sequence value \n",
    "     - the lower bound (``i``) is inclusive (defaults to zero if not specified)\n",
    "     - the upper bound (``j``) is nonclusive (defaults to ``len(S)`` if not specified)\n",
    "     \n",
    "**Note**: There is an extended version of sequence slicing. We will talk about that next week. "
   ]
  },
  {
   "cell_type": "code",
   "execution_count": 8,
   "metadata": {},
   "outputs": [],
   "source": [
    "S = 'MPCS51042'\n",
    "lst = ['Bob', 'Sally', 'Tina']\n",
    "tup = (1,2,3,4,5)"
   ]
  },
  {
   "cell_type": "code",
   "execution_count": 9,
   "metadata": {},
   "outputs": [
    {
     "name": "stdout",
     "output_type": "stream",
     "text": [
      "PC\n",
      "---\n",
      "['Sally', 'Tina']\n",
      "---\n",
      "(2, 3)\n"
     ]
    }
   ],
   "source": [
    "# Fetches items at offsets 1 up to but not including 3\n",
    "print(S[1:3])\n",
    "print('---')\n",
    "print(lst[1:3])\n",
    "print('---')\n",
    "print(tup[1:3])"
   ]
  },
  {
   "cell_type": "code",
   "execution_count": 10,
   "metadata": {},
   "outputs": [
    {
     "name": "stdout",
     "output_type": "stream",
     "text": [
      "PCS51042\n",
      "---\n",
      "['Sally', 'Tina']\n",
      "---\n",
      "(2, 3, 4, 5)\n"
     ]
    }
   ],
   "source": [
    "# Fetches items at offset 1 through the end (the sequence length) \n",
    "print(S[1:])\n",
    "print('---')\n",
    "print(lst[1:])\n",
    "print('---')\n",
    "print(tup[1:])"
   ]
  },
  {
   "cell_type": "code",
   "execution_count": 11,
   "metadata": {},
   "outputs": [
    {
     "name": "stdout",
     "output_type": "stream",
     "text": [
      "MPC\n",
      "---\n",
      "['Bob', 'Sally', 'Tina']\n",
      "---\n",
      "(1, 2, 3)\n"
     ]
    }
   ],
   "source": [
    "# Fetches items at offset 0 up to but not including 3\n",
    "print(S[:3])\n",
    "print('---')\n",
    "print(lst[:3])\n",
    "print('---')\n",
    "print(tup[:3])"
   ]
  },
  {
   "cell_type": "code",
   "execution_count": 12,
   "metadata": {},
   "outputs": [
    {
     "name": "stdout",
     "output_type": "stream",
     "text": [
      "MPCS5104\n",
      "---\n",
      "['Bob', 'Sally']\n",
      "---\n",
      "(1, 2, 3, 4)\n"
     ]
    }
   ],
   "source": [
    "# Fetches items at offset 0 up to but not including the last item \n",
    "print(S[:-1])\n",
    "print('---')\n",
    "print(lst[:-1])\n",
    "print('---')\n",
    "print(tup[:-1])"
   ]
  },
  {
   "cell_type": "code",
   "execution_count": 13,
   "metadata": {},
   "outputs": [
    {
     "name": "stdout",
     "output_type": "stream",
     "text": [
      "MPCS51042\n",
      "---\n",
      "['Bob', 'Sally', 'Tina']\n",
      "---\n",
      "(1, 2, 3, 4, 5)\n"
     ]
    }
   ],
   "source": [
    "# Creates a copy of S (i.e, [0, len(S)])\n",
    "print(S[:])\n",
    "print('---')\n",
    "print(lst[:])\n",
    "print('---')\n",
    "print(tup[:])"
   ]
  },
  {
   "cell_type": "markdown",
   "metadata": {},
   "source": [
    "#### String methods \n",
    "\n",
    "Python provides collection of methods (i.e., functions that act on values) that create **new** strings based on the behavior of the method. \n",
    "\n",
    "Syntax: ``str_value.method_name(arg1,arg2,...)`` \n",
    " - ``str_value`` - a string value or variable \n",
    " - ``.method_name`` - the notation to call a specific string ``method_name``. For example,  \n",
    "     - ``upper``  : capitalizes all the letters of the string. \n",
    "     - ``lower``  : lower cases all the letters of the string. \n",
    "     - ``split``  : returns a list of words in a string where default separator is any whitespace. \n",
    "     - ``find``   : returns the lowest index of a particular substring in a string. If the substring is not found, -1 is returned.\n",
    "     - ``replace`` : Replace all occurences of a substring with a new substring.\n",
    "     - ``strip``  : returns a copy of the string with the leading and trailing characters removed. Default character to be removed is whitespace. \n",
    "     \n",
    "     - More string methods : https://docs.python.org/3/library/stdtypes.html#string-methods\n",
    " - ``(arg1,arg2,...)`` - the arguments for that method. "
   ]
  },
  {
   "cell_type": "code",
   "execution_count": 14,
   "metadata": {},
   "outputs": [
    {
     "name": "stdout",
     "output_type": "stream",
     "text": [
      "spaxxy\n",
      "spammy\n"
     ]
    }
   ],
   "source": [
    "spam = \"spammy\"\n",
    "# Replace all mm with xx in S \n",
    "new_spam = spam.replace('mm', 'xx')\n",
    "print(new_spam)\n",
    "print(spam) # Remember old string is not modified. Strings are immutable"
   ]
  },
  {
   "cell_type": "code",
   "execution_count": 15,
   "metadata": {},
   "outputs": [
    {
     "name": "stdout",
     "output_type": "stream",
     "text": [
      "4\n"
     ]
    }
   ],
   "source": [
    "spam = '----SPAM----SPAM----'\n",
    "#Search for the index of the first occurence of \"SPAM\" \n",
    "where = spam.find('SPAM') \n",
    "print(where)"
   ]
  },
  {
   "cell_type": "code",
   "execution_count": 18,
   "metadata": {},
   "outputs": [
    {
     "name": "stdout",
     "output_type": "stream",
     "text": [
      "['abc', 'edf', 'g']\n",
      "---\n",
      "['abc', 'efg', 'g']\n"
     ]
    }
   ],
   "source": [
    "words = 'abc edf g'\n",
    "# Creates a list of strings. The words are deliminted by default via a whitespace\n",
    "lst = words.split() \n",
    "print(lst)\n",
    "print('---')\n",
    "words = \"abc,efg,g\"\n",
    "lst = words.split(\",\") # Can specify the deliminter \n",
    "print(lst)"
   ]
  },
  {
   "cell_type": "code",
   "execution_count": 19,
   "metadata": {},
   "outputs": [
    {
     "name": "stdout",
     "output_type": "stream",
     "text": [
      "1.234\n",
      "True\n",
      "[1, 2, 3]\n",
      "<class 'str'>\n",
      "<class 'str'>\n",
      "<class 'str'>\n"
     ]
    }
   ],
   "source": [
    "# If possible, you can convert any value into a str value by using the \"str()\" conversion function. \n",
    "str1 = str(1.234)\n",
    "str2 = str(\"True\")\n",
    "str3 = str([1,2,3])\n",
    "print(str1)\n",
    "print(str2)\n",
    "print(str3)\n",
    "print(type(str1))\n",
    "print(type(str2))\n",
    "print(type(str3))"
   ]
  },
  {
   "cell_type": "markdown",
   "metadata": {},
   "source": [
    "#### Mutable Sequences Methods/Operators\n",
    "\n",
    "Below are some common methods associated with mutable sequences. **All of these methods change the sequence in-place**.\n",
    "\n",
    "  ![alt text](../images/mutable.png \" https://docs.python.org/3/library/stdtypes. html#mutable-sequence-types\") -- <cite> https://docs.python.org/3/library/stdtypes. html#mutable-sequence-types</cite>\n"
   ]
  },
  {
   "cell_type": "code",
   "execution_count": 20,
   "metadata": {},
   "outputs": [
    {
     "name": "stdout",
     "output_type": "stream",
     "text": [
      "[1, 2, 3, 4, 'hi', True]\n"
     ]
    }
   ],
   "source": [
    "lst = [1,2,3,4]\n",
    "lst.append(\"hi\")\n",
    "lst.append(True)\n",
    "print(lst)"
   ]
  },
  {
   "cell_type": "code",
   "execution_count": 21,
   "metadata": {},
   "outputs": [
    {
     "name": "stdout",
     "output_type": "stream",
     "text": [
      "[1, 2, 3, 4, 'hi']\n"
     ]
    }
   ],
   "source": [
    "lst.pop()  # Removes last element \n",
    "print(lst)"
   ]
  },
  {
   "cell_type": "markdown",
   "metadata": {},
   "source": [
    "#### Aside: Range Sequence Type \n",
    "\n",
    "There is one more important immutable sequence type to discuss ``range``. The ``range`` type is an immutable sequence of numbers and is commonly used for looping a specific number of times in ``for`` loops.\n",
    "\n",
    "Syntax: ``range(stop)`` or ``range(start,stop)`` or ``range(start,stop,step)``:\n",
    "   \n",
    "   - ``start``: The value of the start parameter (or 0 if the parameter was not supplied) *inclusive* \n",
    "   - ``stop`` : The value of the stop parameter *exclusive*\n",
    "   - ``step`` : The value of the step parameter (or 1 if the parameter was not supplied)\n",
    "\n",
    "- The ``range`` type implementes all common sequence operatrions except for concatenation and repetition \n",
    "- The main advantage of the ``range`` type is that it always take the same (small) amount of memory, no matter the size of the range it represents. "
   ]
  },
  {
   "cell_type": "code",
   "execution_count": 22,
   "metadata": {},
   "outputs": [
    {
     "name": "stdout",
     "output_type": "stream",
     "text": [
      "0\n",
      "5\n",
      "----\n",
      "1\n",
      "3\n",
      "----\n",
      "range(1, 4)\n",
      "[1, 2, 3]\n"
     ]
    }
   ],
   "source": [
    "r = range(6) # Contains an ordered collection of the values: 0,1,2,3,4,5\n",
    "print(r[0])\n",
    "print(r[len(r) - 1]) # Last value in the range\n",
    "print('----')\n",
    "\n",
    "r = range(1,4) # Contains an ordered collection of the values: 1,2,3\n",
    "print(r[0])\n",
    "print(r[-1])\n",
    "print('----')\n",
    "\n",
    "# Printing the range value does not show you the contents because the values are generated when needed\n",
    "print(r) \n",
    "# You can convert it into a list to see the values \n",
    "print(list(r))"
   ]
  },
  {
   "cell_type": "code",
   "execution_count": 23,
   "metadata": {},
   "outputs": [
    {
     "name": "stdout",
     "output_type": "stream",
     "text": [
      "Shout!\n",
      "Shout!\n",
      "Shout!\n",
      "Shout!\n",
      "Shout!\n"
     ]
    }
   ],
   "source": [
    "for shout in range(5):\n",
    "    print(\"Shout!\")"
   ]
  },
  {
   "cell_type": "code",
   "execution_count": null,
   "metadata": {},
   "outputs": [],
   "source": []
  }
 ],
 "metadata": {
  "kernelspec": {
   "display_name": "Python 3",
   "language": "python",
   "name": "python3"
  },
  "language_info": {
   "codemirror_mode": {
    "name": "ipython",
    "version": 3
   },
   "file_extension": ".py",
   "mimetype": "text/x-python",
   "name": "python",
   "nbconvert_exporter": "python",
   "pygments_lexer": "ipython3",
   "version": "3.8.8"
  }
 },
 "nbformat": 4,
 "nbformat_minor": 1
}
