{
 "cells": [
  {
   "cell_type": "markdown",
   "metadata": {},
   "source": [
    "## Problem 0\n",
    "\n",
    "This is the very first problem, and since collections of items in programming are often zero-indexed, we'll call it Problem Zero. You don't have to write code for this problem, but you do need to _read_ code and understand what it is doing.\n",
    "\n",
    "The other problems ask you to write code. To help you make sure your code is working, we have provided you with some tests in this file. Here is a test function that we will use to check your code against some examples:"
   ]
  },
  {
   "cell_type": "code",
   "execution_count": null,
   "metadata": {},
   "outputs": [],
   "source": [
    "# Don't worry about understanding these two lines.\n",
    "# They are commands we use to get this notebook to autoreload\n",
    "# so you don't have to rerun your kernel every time you change your homework files.\n",
    "%load_ext autoreload\n",
    "%autoreload 2\n",
    "\n",
    "def test(function, examples):\n",
    "    passed = 0\n",
    "    run = 0\n",
    "\n",
    "    for example in examples:\n",
    "        run += 1\n",
    "        expected = example[-1]\n",
    "        actual = function(*example[:-1])\n",
    "\n",
    "        if expected == actual: \n",
    "            passed += 1\n",
    "        else:\n",
    "            print(f\"Whoops. For example {example}, the function returned {actual}.\")\n",
    "\n",
    "    print(f\"\\n{passed} out of {run} examples worked as expected.\")"
   ]
  },
  {
   "cell_type": "markdown",
   "metadata": {},
   "source": [
    "For Problem 0, open the file called `problem_0.md` and explain what this function is doing by answering the following questions:\n",
    "\n",
    "1. What are the arguments and what types do these arguments need to have for this function to work?\n",
    "1. Walk us through the code line by line. What is happening here?\n",
    "1. Does this function have a return value? How do you know?"
   ]
  },
  {
   "cell_type": "markdown",
   "metadata": {},
   "source": [
    "## Problem 1:\n",
    "\n",
    "[Watch this Video](https://youtu.be/3LRG960JhZo?list=PLwWm3SC4yPMyzj6hDxXzb1GK84l80GeMO) called \"Introduction to Version Control with Git.\" The subtitles on that video should be accurate.\n",
    "\n",
    "**Answer the following questions:**"
   ]
  },
  {
   "cell_type": "markdown",
   "metadata": {},
   "source": [
    "1. What is a SHA?\n",
    "2. What is a branch?\n",
    "3. What does a remote do?\n",
    "4. Suppose an app's git history looks like this:\n",
    "    \n",
    "```\n",
    "a0a7fe1 (HEAD -> main) Update issue templates\n",
    "ac457fd Update dependencies for release\n",
    "a51defc Update bug_report.md\n",
    "7f26e3e Update feature_enhancement.md\n",
    "6f21591 (origin/main, origin/HEAD) Remove in-browser projects from project list\n",
    "f23a0f7 Introduce dark color scheme for museum projects\n",
    "```\n",
    "\n",
    "The oldest two commits add features to the app. The most recent four commits make updates to various documentation in preparation for release. Your colleague made these four commits to the main branch (\"D'oh!\"), but he did not _push them_. They are just on his local machine. He needs to submit them to the repo in a _pull request_, so that another developer can review them prior to merging them in and publishing the new release. \n",
    "\n",
    "Your colleague panicked about committing to the wrong branch and he's currently crying in the bathroom. You decide to fix it for him and save his day. **What commands do you run on his machine to open the proper pull request and restore the local main branch to the state of the remote main branch?** \n",
    "\n",
    "Assume that this git repo already has a remote and the oldest two commits in the history above are already on the main branch on that remote; it's the last four commits that are new and need to be in the PR. (For this question, you might find the `reset` command in git very helpful. I recommend taking a look at the git documentation!) "
   ]
  },
  {
   "cell_type": "markdown",
   "metadata": {},
   "source": [
    "## Problem 2\n",
    "\n",
    "[Watch this video](https://youtu.be/TSvyxLImhq8?list=PLwWm3SC4yPMyzj6hDxXzb1GK84l80GeMO) about preserving work with Git.\n",
    "\n",
    "**Answer the following questions:**\n",
    "\n",
    "1. What things should you NOT DO if you want to make sure to keep your committed work in git?\n",
    "2. How does this video make you feel about committing in git? How often do you think you should commit?"
   ]
  },
  {
   "cell_type": "markdown",
   "metadata": {},
   "source": [
    "## Problem 3\n",
    "\n",
    "Write a function called `find_twos` that accepts two strings of integers separated by commas and returns a list of integers that appear in both strings and have the digit 2 in them. There should be no duplicates in the output list. Make sure the program works when the lists have different lengths. The list should present the integers in the order that they appear in the _first_ string.\n",
    "\n",
    "When you've done Problem 1 correctly, running the following cell should produce \"10/10 examples worked as expected.\"\n",
    "\n",
    "For example:\n",
    "\n",
    "If you have the following inputs in your function:\n",
    "\n",
    "\"1, 2, 20,22, 44, 99\"\n",
    "\"3,5, 22, 100, 44, 2\"\n",
    "\n",
    "The output should be [2, 22]\n",
    "\n",
    "There should be no duplicates in your ouput.\n",
    "\n",
    "(**Note**: If you changed your code but you're unexpectedly getting the same test result as before, **please make sure you saved your Python file!!**)"
   ]
  },
  {
   "cell_type": "code",
   "execution_count": null,
   "metadata": {},
   "outputs": [],
   "source": [
    "from problem_3 import find_twos\n",
    "\n",
    "find_twos_examples = [\n",
    "    (\"\", \"\", []),\n",
    "    (\"1\", \"1, 3\", []),\n",
    "    (\"2\", \"\", []),\n",
    "    (\"2\", \"1, 3\", []),\n",
    "    (\"2\", \"2\", [2]),\n",
    "    (\"2\", \"12\", []),\n",
    "    (\"12\", \"2, 12\", [12]),\n",
    "    (\"1, 3, 5, 12, 7, 200\", \"2, 6, 9, 200, 5\", [200]),\n",
    "    (\"1, 2, 20, 22, 44, 99\", \"3, 5, 22, 100, 44, 2\", [2, 22]),\n",
    "    (\"1,2, 20,22, 44, 99\", \"3,5, 22, 100, 44, 2\", [2, 22]),\n",
    "    (\"1,2, 20,22, 22,44, 20, 99\", \"3,5, 22, 100, 44, 2\", [2, 22]),\n",
    "    (\"1, 2, 20, 22\", \"3, 2, 20, 22\", [2, 20, 22]),\n",
    "]\n",
    "\n",
    "test(function=find_twos, examples=find_twos_examples)"
   ]
  },
  {
   "cell_type": "markdown",
   "metadata": {},
   "source": [
    "## Problem 4\n",
    "\n",
    "Write a function called `expand_letter_ranges` that accepts a comma-separated string of letters or letter ranges, and returns a sorted list of all the letters with the ranges expanded into individual letters. The input letters can be either lowercase or uppercase, but each string in the output list should be uppercase. It is not necessary to perform any error checking (ranges that are backwards, non-character input, etc.).\n",
    "    \n",
    "Note that there are built-in functions, `ord()` and `chr()`, that can convert single characters to integers and vice versa.\n",
    "\n",
    "When you've done it right, running the test in the following cell should produce \"5/5 examples worked as expected.\"\n",
    "\n",
    "If your function has the following input:\n",
    "\"b-D,z,m-q,n,C-E\"\n",
    "\n",
    "Then this is the expected output:\n",
    "['B', 'C', 'D', 'E', 'M', 'N', 'O', 'P', 'Q', 'Z']"
   ]
  },
  {
   "cell_type": "code",
   "execution_count": null,
   "metadata": {},
   "outputs": [],
   "source": [
    "from problem_4 import expand_letter_ranges\n",
    "\n",
    "expand_letter_ranges_examples = [\n",
    "    (\"\", []),\n",
    "    (\"a-f\", ['A','B','C','D','E','F']),\n",
    "    (\"b-D,z,m-q,n,C-E\", ['B','C','D','E','M','N','O','P','Q','Z']),\n",
    "    (\"q,r,a,t,v,y,z\", ['A','Q','R','T','V','Y','Z']),\n",
    "    (\"b-D,z,m-q,n,C-E\", ['B','C','D','E','M','N','O','P','Q','Z']),\n",
    "]\n",
    "\n",
    "test(function=expand_letter_ranges, examples=expand_letter_ranges_examples)"
   ]
  },
  {
   "cell_type": "markdown",
   "metadata": {},
   "source": [
    "## Problem 5\n",
    "\n",
    "Write a function called `mean` that accepts a whitespace separated string of numbers (integers or floats) and returns their mean. \n",
    "\n",
    "For example, if your function in put was:\n",
    "\"1 2 3\"\n",
    "\n",
    "The expected output would be:\n",
    "2.0\n",
    "\n",
    "For this problem, you may want to use the built-in `sum()` function, which returns the sum of values in an iterable (such as a list).\n",
    "\n",
    "When you've done it right, running the test in the following cell should produce \"5/5 examples worked as expected.\""
   ]
  },
  {
   "cell_type": "code",
   "execution_count": null,
   "metadata": {},
   "outputs": [],
   "source": [
    "from problem_5 import mean\n",
    "\n",
    "mean_examples = [\n",
    "    (\"\", 0.0),\n",
    "    (\"1\", 1.0),\n",
    "    (\"1 2 3\", 2.0),\n",
    "    (\"1 2 3\", 2.0),\n",
    "    (\"1 2 3\", 2.0),\n",
    "]\n",
    "\n",
    "test(function=mean, examples=mean_examples)"
   ]
  },
  {
   "cell_type": "markdown",
   "metadata": {},
   "source": [
    "## Problem 6\n",
    "\n",
    "What digits (1 through 9) can replace the letters A, B, and C such that the following equation is true?\n",
    "\n",
    "ABC = A×B×C × (A + B + C)\n",
    "\n",
    "For example, if A is 1, B is 2, and C is 3 and E is 3, the equation would be:\n",
    "\n",
    "123 ≠ 1×2×3×(1 + 2 + 3) = 36\n",
    "\n",
    "so 1, 2, and 3 are clearly not a solution. Rather than solving this problem with your raw brainpower, write a program that checks each combination of digits and returns a collection of the numbers for which it is satisfied, along with their result.\n",
    "\n",
    "For this problem please create a function called `find_numbers` that returns a list of the solutions. Each list item should be in the format:\n",
    "\n",
    "'For A, B, and C, the equation solution is ABC'\n",
    "\n",
    "When you've solved it correctly, the below cell should print \"Great job! You got it!\""
   ]
  },
  {
   "cell_type": "code",
   "execution_count": null,
   "metadata": {},
   "outputs": [],
   "source": [
    "from problem_6 import find_numbers\n",
    "\n",
    "solution = [\n",
    "    'For 1, 3, and 5, the equation solution is 135',\n",
    "    'For 1, 4, and 4, the equation solution is 144'\n",
    "]\n",
    "\n",
    "if find_numbers() == solution:\n",
    "    print(\"Great job! You got it!\")\n",
    "else:\n",
    "    print(\"Whoops. Try Again.\")"
   ]
  },
  {
   "cell_type": "markdown",
   "metadata": {},
   "source": [
    "## Problem 7\n",
    "\n",
    "Write a function called `find_minimum` that takes a sequence of items. It checks that the items strictly decrease to a minimum, then strictly increase after that. Given correct input, the function returns a tuple containing the minimum value and its index in the sequence. For now, you can ignore the `comparator` argument you'll see in the `problem_5.py` file.\n",
    "\n",
    "The test below will exercise your \"base case\", a sequence of numbers. Notice that the function CHECKS that the numbers strictly decrease and then strictly increase. When given a sequence that only increases, or only decreases, or has a plateau, the function should return the string \"Invalid Sequence\"*.\n",
    "\n",
    "*In real life we would probably raise an exception for invalid sequences, but we have not learned much about exceptions yet, so for now, we return the string \"Invalid Sequence.\""
   ]
  },
  {
   "cell_type": "code",
   "execution_count": null,
   "metadata": {},
   "outputs": [],
   "source": [
    "from problem_7 import find_minimum\n",
    "\n",
    "find_minimum_number_examples = [\n",
    "    ([6, 5, 4, 3, 2, 3, 4, 5, 6, 7], (2, 4)),\n",
    "    ([2, 3, 4, 5, 6], \"Invalid Sequence\"), # only increases\n",
    "    ([6, 5, 4, 3, 2], \"Invalid Sequence\"), # only decreases\n",
    "    ([3, 2, 1, 1, 2, 3], \"Invalid Sequence\"), # has a plateau with the two 1's in the middle\n",
    "]\n",
    "\n",
    "test(function=find_minimum, examples=find_minimum_number_examples)"
   ]
  },
  {
   "cell_type": "markdown",
   "metadata": {},
   "source": [
    "Excellent. Once you have the above test passing, it's time to modify `find_minimum`. Now, it should be able to find the minimum in a sequence of strings, too—with \"minimum\" in this case meaning the shortest string. \n",
    "\n",
    "The fun part here is that all the functionality for numbers needs to still work. So how do you do it? \n",
    "\n",
    "We're going to use an optional parameter here—the one called `comparator` in your implementation file. So far, it does nothing. What you'll do is pass in a method to that argument that determines how you compare the items in the sequence. \n",
    "\n",
    "Python has a function called `len` that lets you compare the length of two strings. I pass that function in as the value for `comparator` in the test below. You can use that function as the `key` parameter in Python's sorting methods, or you can call the `comparator` function on each item as you are comparing them in `find_minimum`. Once you've done it right, this test will pass:"
   ]
  },
  {
   "cell_type": "code",
   "execution_count": null,
   "metadata": {},
   "outputs": [],
   "source": [
    "from problem_7 import find_minimum\n",
    "\n",
    "find_shortest_string_examples = [\n",
    "    ([\"three\", \"twoo\", \"one\", \"twoo\", \"three\"], len, (\"one\", 2)),\n",
    "    ([\"one\", \"twoo\", \"three\"], len, \"Invalid Sequence\"), # only increases\n",
    "    ([\"three\", \"twoo\", \"one\"], len, \"Invalid Sequence\"), # only decreases\n",
    "    ([\"three\", \"twoo\", \"one\", \"one\", \"twoo\", \"three\"], len, \"Invalid Sequence\"), # has a plateau with the two 1's in the middle\n",
    "\n",
    "    # Remember, all the 'old' number examples should still work!\n",
    "    ([6, 5, 4, 3, 2, 3, 4, 5, 6, 7], (2, 4)),\n",
    "    ([2, 3, 4, 5, 6], \"Invalid Sequence\"), # only increases\n",
    "    ([6, 5, 4, 3, 2], \"Invalid Sequence\"), # only decreases\n",
    "    ([3, 2, 1, 1, 2, 3], \"Invalid Sequence\"), # has a plateau with the two 1's in the middle\n",
    "]\n",
    "\n",
    "test(function=find_minimum, examples=find_shortest_string_examples)"
   ]
  },
  {
   "cell_type": "markdown",
   "metadata": {},
   "source": [
    "OK. Let's do one more custom comparator and make sure that our implementation still works. \n",
    "\n",
    "In machine learning, we train models through a process called gradient descent. You don't need to worry too much about the details of this. The general idea is:\n",
    "\n",
    "1. Tell the model to use one set of weights, and measure the mistakes the model makes.\n",
    "2. Make some changes to the weights, then measure the mistakes the model makes again.\n",
    "3. Repeat several times, then find the set of weights that produces the minimum mistake value. \n",
    "\n",
    "You see a class in the `problem_7` file called `TrainingAttempt`. Write a comparator function called `total_error` that you can pass to `find_minimum` to identify which of the `TrainingAttempt`s has the best weights for achieving the minimum error."
   ]
  },
  {
   "cell_type": "code",
   "execution_count": null,
   "metadata": {},
   "outputs": [],
   "source": [
    "from problem_7 import find_minimum, TrainingAttempt, total_error\n",
    "\n",
    "training_attempts = [\n",
    "    TrainingAttempt(1, [1, 2, 3], 0.56),\n",
    "    TrainingAttempt(2, [1, 2, 2], 0.5),\n",
    "    TrainingAttempt(3, [1, 2, 1], 0.45),\n",
    "    TrainingAttempt(4, [1, 2, 0], 0.48),\n",
    "    TrainingAttempt(5, [1, 2, -1], 0.51),\n",
    "    TrainingAttempt(6, [1, 2, -2], 0.57),\n",
    "    TrainingAttempt(7, [1, 2, -3], 0.69),\n",
    "]\n",
    "\n",
    "solution = find_minimum(training_attempts, total_error)\n",
    "\n",
    "if str(solution[0]) == \"TrainingAttempt 3\" and solution[1] == 2:\n",
    "    print(\"Great job! You got it!\")\n",
    "else:\n",
    "    print(f\"Whoops. Expected the function to find Training Attempt 3 at index 2, and got {solution}\")"
   ]
  },
  {
   "cell_type": "markdown",
   "metadata": {},
   "source": [
    "## Problem 8\n",
    "\n",
    "Write a function called `power_status` that takes in a power grid, represented as a list of the statuses of several homes as a collection (\"status\" meaning whether their power is working or not), and a _section_ of that grid, represented as two tuples.\n",
    "\n",
    "The function then returns a list of booleans indicating the power status for each home in that sector.\n",
    "\n",
    "There is some implementation advice waiting for you in the `problem_8` file, but first, here's the test:"
   ]
  },
  {
   "cell_type": "code",
   "execution_count": null,
   "metadata": {},
   "outputs": [],
   "source": [
    "from problem_8 import power_status\n",
    "\n",
    "neighborhood_grid = [\n",
    "    [True,  True,  True],\n",
    "    [True,  False, False],\n",
    "    [False, True,  True]\n",
    "]\n",
    "\n",
    "power_status_examples = [\n",
    "    (neighborhood_grid, (0, 1), (0, 2), [True, True]),\n",
    "    (neighborhood_grid, (0, 2), (0, 2), [True, True, True, False]),\n",
    "    (neighborhood_grid, (0, 2), (1, 3), [True, True, False, False]),\n",
    "    (neighborhood_grid, (1, 2), (0, 3), [True, False, False]),\n",
    "    (neighborhood_grid, (1, 3), (0, 2), [True, False, False, True]),\n",
    "    (neighborhood_grid, (1, 3), (1, 3), [False, False, True, True]),\n",
    "    (neighborhood_grid, (2, 3), (0, 1), [False]),\n",
    "    (neighborhood_grid, (2, 3), (0, 3), [False, True, True]),\n",
    "    (neighborhood_grid, (0, 3), (0, 3), [True, True, True, True, False, False, False, True, True]),\n",
    "    (neighborhood_grid, (0, 3), (0, 2), [True, True, True, False, False, True]),\n",
    "    (neighborhood_grid, (0, 3), (1, 3), [True, True, False, False, True, True]),\n",
    "    (neighborhood_grid, (0, 3), (2, 3), [True, False, True]),\n",
    "]\n",
    "\n",
    "test(function=power_status, examples=power_status_examples)"
   ]
  }
 ],
 "metadata": {
  "kernelspec": {
   "display_name": "Python 3 (ipykernel)",
   "language": "python",
   "name": "python3"
  },
  "language_info": {
   "codemirror_mode": {
    "name": "ipython",
    "version": 3
   },
   "file_extension": ".py",
   "mimetype": "text/x-python",
   "name": "python",
   "nbconvert_exporter": "python",
   "pygments_lexer": "ipython3",
   "version": "3.10.8"
  }
 },
 "nbformat": 4,
 "nbformat_minor": 4
}
