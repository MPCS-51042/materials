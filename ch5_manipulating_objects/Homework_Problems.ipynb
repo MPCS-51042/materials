{
 "cells": [
  {
   "cell_type": "markdown",
   "metadata": {},
   "source": [
    "## Problem 0\n",
    "\n",
    "You know that you can get a class's method resolution order by checking its `.__mro__` attribute. Let's look at some unusual cases of method resolution order to better understand how it works."
   ]
  },
  {
   "cell_type": "code",
   "execution_count": null,
   "metadata": {},
   "outputs": [],
   "source": [
    "#This is called \"The Diamond Inheritance Pattern.\"\n",
    "class Uranus:\n",
    "    pass\n",
    "\n",
    "class Cronus(Uranus):\n",
    "    pass\n",
    "\n",
    "class Rhea(Uranus):\n",
    "    pass\n",
    "\n",
    "class Demeter(Cronus, Rhea):\n",
    "    pass\n",
    "\n",
    "Demeter.__mro__"
   ]
  },
  {
   "cell_type": "markdown",
   "metadata": {},
   "source": [
    "How would you describe method resolution order in the diamond pattern? Please put your answer in problem_0.md."
   ]
  },
  {
   "cell_type": "markdown",
   "metadata": {},
   "source": [
    "## Problem 1\n",
    "\n",
    "In the Swift programming language, the [Array](https://developer.apple.com/documentation/swift/array) datatype (somewhat equivalent to Python's `list`) has a number of methods which `list` in Python does not have. For this problem, you are to write a subclass of `list` that provides some of these methods.\n",
    "\n",
    "### Specifications\n",
    "\n",
    "- The class should be named `SwiftArray` and should inherit from the built-in `list` class.\n",
    "- The `allSatisfy(predicate)` method tests whether all items in the list satisfy a given _predicate_ (function of one argument that returns a Boolean value).\n",
    "- The `drop(predicate)` method returns a list containing only elements of the original list that do not satisfy the given predicate. As with the `allSatisfy` method, the predicate is a function taking one argument and returning a Boolean value. Elements in the returned list should be in the same order they appear in the SwiftArray.\n",
    "- The `min(by)` method returns the minimum element in the list. The `by` argument should take a default value of `None`, in which case elements are compared using their value directly. The `by` argument allows a non-default comparison to be made between elements; it should be a function taking two arguments and returning `True` if the first argument should be ordered before its second argument and `False` otherwise.\n",
    "- The `partition(predicate)` method reorders the elements of the list such that all elements that match the given predicate are after all the elements that don't match. Note that this is an in-place operation, i.e., it should not return a new list. This method also returns the index of the first element in the reordered list that matches the predicate.\n",
    "\n",
    "### Example Interaction\n",
    "\n",
    "```pycon\n",
    ">>> x = SwiftArray([1, -3, 10, 5])\n",
    ">>> x.allSatisfy(lambda v: isinstance(v, int))\n",
    "True\n",
    ">>> def even(v):\n",
    "...     return v % 2 == 0\n",
    ">>> x.drop(even)\n",
    "[1, -3, 5]\n",
    ">>> x.min()\n",
    "-3\n",
    ">>> x.min(lambda a, b: abs(a) < abs(b))\n",
    "1\n",
    ">>> x.min(lambda a, b: a > b)\n",
    "10\n",
    ">>> first = x.partition(lambda v: v < 0)\n",
    ">>> x\n",
    "[1, 10, 5, -3]\n",
    ">>> x[first]\n",
    "-3\n",
    "```"
   ]
  },
  {
   "cell_type": "code",
   "execution_count": null,
   "metadata": {},
   "outputs": [],
   "source": [
    "# Don't worry about understanding these two lines.\n",
    "# They are commands we use to get this notebook to autoreload\n",
    "# so you don't have to rerun your kernel every time you change your homework files.\n",
    "%load_ext autoreload\n",
    "%autoreload 2\n",
    "\n",
    "import sys\n",
    "sys.path.insert(0, '..')\n",
    "from course_utils import Test\n",
    "sys.path.remove('..')\n",
    "\n",
    "from problem_1 import SwiftArray\n",
    "\n",
    "swift_array_examples = [\n",
    "    (str(isinstance(SwiftArray([33]), list)), \"True\"),\n",
    "    (str(isinstance(SwiftArray([33]), SwiftArray)), \"True\"),\n",
    "    (str(SwiftArray([1, 2, 3, 4]).allSatisfy(lambda x: x < 3)), \"False\"),\n",
    "    (str(SwiftArray([1, 2, 3, 4]).allSatisfy(lambda x: type(x) == int)), \"True\"),\n",
    "    (SwiftArray([1, 2, 3, 4]).drop(lambda x: x < 3), [3, 4]),\n",
    "    (SwiftArray([1, 2, -1, 4]).min(), -1),\n",
    "    (SwiftArray(['bb','a','ccc']).min(lambda x, y: len(x) < len(y)), \"a\"),\n",
    "    (SwiftArray([1, 2, 3, 4]).partition(lambda x: x < 2), 3)\n",
    "]\n",
    "\n",
    "Test(examples = swift_array_examples).equivalence()"
   ]
  },
  {
   "cell_type": "markdown",
   "metadata": {},
   "source": [
    "## Problem 2\n",
    "\n",
    "Write a class named `Fraction` that represents a rational number (a number that can be expressed as the quotient of two integers). It is required to implement the following methods:\n",
    "\n",
    "- The `__init__(self, numerator, denominator)` method should accept integer values for the `numerator` and `denominator` arguments and set instance attributes of the same name. If the `denominator` is 0, raise a `ZeroDivisionError` exception. If the `demoninator` is negative, flip the sign on the _numerator and denominator_ to create an equivalent fraction with a positive denominator.\n",
    "- Use the [math.gcd](https://docs.python.org/3/library/math.html#math.gcd) function to find the greatest common divisor (GCD) of the numerator and denominator and then divide each of them by it to \"normalize\" the fraction. For example, the fraction 28/20 will get normalized to 7/5 since the GCD of 28 and 20 is 4:\n",
    "\n",
    "   ```pycon\n",
    "   >>> x = Fraction(28, 20)\n",
    "   >>> x\n",
    "   Fraction(7, 5)\n",
    "   ```\n",
    "- Implement the basic binary operators (`+`, `-`, `*`, `/`) so that a `Fraction` can combined with either another fraction or an integer. All methods should return a new `Fraction`. Note that you may need to implement \"reversed\" operators for arithmetic with integers to fully work.\n",
    "- The `__neg__` method should return a new `Fraction` instance with the numerator negated.\n",
    "- The `__repr__` method should return a string of the form `Fraction(a, b)` where a and b are the numerator and denominator, respectively.\n",
    "- The `__eq__` method should should return a boolean indicating that both the numerator and denominator of any two fractions are identical"
   ]
  },
  {
   "cell_type": "markdown",
   "metadata": {},
   "source": [
    "The below should print `Fraction(5, 6)` and then raise a `ZeroDivisionError`"
   ]
  },
  {
   "cell_type": "code",
   "execution_count": null,
   "metadata": {},
   "outputs": [],
   "source": [
    "from problem_2_3_4_5 import Fraction\n",
    "print(Fraction(1, 2) + Fraction(1, 3))\n",
    "Fraction(4, 0)"
   ]
  },
  {
   "cell_type": "markdown",
   "metadata": {},
   "source": [
    "*NOTE*: In order for the test runner to work, the numerator and denominator attribtues must be named `numerator` and `denominator`"
   ]
  },
  {
   "cell_type": "code",
   "execution_count": null,
   "metadata": {},
   "outputs": [],
   "source": [
    "import sys\n",
    "sys.path.insert(0, '..')\n",
    "from course_utils import Test\n",
    "sys.path.remove('..')\n",
    "\n",
    "from problem_2_3_4_5 import Fraction\n",
    "\n",
    "fraction_examples = [\n",
    "    (Fraction(6, 4), Fraction(3, 2)),\n",
    "    (Fraction(1, -2), Fraction(-1, 2)),\n",
    "    ((Fraction(1, 2) + Fraction(1, 3)), Fraction(5, 6)),\n",
    "    ((Fraction(3, 4) - Fraction(1, 8)), Fraction(5, 8)),\n",
    "    ((Fraction(6, 2) * Fraction(4, 3)), Fraction(4, 1)),\n",
    "    ((Fraction(4, 5) / Fraction(3, 1)), Fraction(4, 15)),\n",
    "]\n",
    "\n",
    "Test(examples=fraction_examples).equivalence()"
   ]
  },
  {
   "cell_type": "markdown",
   "metadata": {},
   "source": [
    "## Problem 3\n",
    "\n",
    "Make the arithmetic operations method work for fractions with floats and integers:\n",
    "\n",
    "```\n",
    "__repr__(Frac(1, 2) + 1) = Fraction(3/2)\n",
    "__repr__(1.0 - Frac(1, 2)) = Fraction(1/2)\n",
    "__repr__(Frac(1, 2) * 0.6) = Fraction(3/10)\n",
    "__repr__(0.1 / Frac(1, 2) = Fraction(2/10)\n",
    "```"
   ]
  },
  {
   "cell_type": "code",
   "execution_count": null,
   "metadata": {},
   "outputs": [],
   "source": [
    "import sys\n",
    "sys.path.insert(0, '..')\n",
    "from course_utils import Test\n",
    "sys.path.remove('..')\n",
    "\n",
    "from problem_2_3_4_5 import Fraction\n",
    "\n",
    "fraction_examples = [\n",
    "    ((Fraction(1, 2) + 1), Fraction(3, 2)),\n",
    "    ((Fraction(3, 4) - 0.125), Fraction(5, 8)),\n",
    "    ((Fraction(6, 2) * 5), Fraction(15, 1)),\n",
    "    ((Fraction(4, 5) / 0.4), Fraction(2, 1)),\n",
    "    ((0.5 + Fraction(1, 3)), Fraction(5, 6)),\n",
    "    ((1 - Fraction(1, 8)), Fraction(7, 8)),\n",
    "    ((3 * Fraction(4, 3)), Fraction(4, 1)),\n",
    "    ((0.8 / Fraction(3, 1)), Fraction(4, 15)),\n",
    "]\n",
    "\n",
    "Test(examples=fraction_examples).equivalence()"
   ]
  },
  {
   "cell_type": "markdown",
   "metadata": {},
   "source": [
    "## Problem 4\n",
    "\n",
    "Add a `.from_float()` and `.from_integer()` class methods to your Fraction class (using `@classmethod`). These should each accept one argument and return a fraction.\n"
   ]
  },
  {
   "cell_type": "code",
   "execution_count": null,
   "metadata": {},
   "outputs": [],
   "source": [
    "import sys\n",
    "sys.path.insert(0, '..')\n",
    "from course_utils import Test\n",
    "sys.path.remove('..')\n",
    "\n",
    "from problem_2_3_4_5 import Fraction\n",
    "\n",
    "fraction_examples = [\n",
    "    (Fraction.from_float(1.5), Fraction(3, 2)),\n",
    "    (Fraction.from_float(0.125), Fraction(1, 8)),\n",
    "    (Fraction.from_float(3.0), Fraction(3, 1)),\n",
    "    (Fraction.from_integer(15), Fraction(15, 1)),\n",
    "]\n",
    "\n",
    "Test(examples=fraction_examples).equivalence()\n",
    "\n",
    "\n",
    "try: \n",
    "    Fraction.from_float(3)\n",
    "    print(\"Whoops! Calling from_float on an integer should raise an exception with an error message.\\\n",
    "    Hint: because Python does automatic type checking, you'll want to explicitly check type\")\n",
    "except:\n",
    "    pass\n",
    "\n",
    "try: \n",
    "    Fraction.from_integer(3.0)\n",
    "    print(\"Whoops! Calling from_float on an integer should raise an exception with an error message.\")\n",
    "except:\n",
    "    pass"
   ]
  },
  {
   "cell_type": "markdown",
   "metadata": {},
   "source": [
    "## Problem 5\n",
    "\n",
    "Add an `.is_complete()` function as a `@staticmethod` to your Fraction class that accepts any number of fractions and returns `True` if they sum to exactly 1 and `False` if they do not. For this, you'll want to look at the `*args` operator in Python ;)."
   ]
  },
  {
   "cell_type": "code",
   "execution_count": null,
   "metadata": {},
   "outputs": [],
   "source": [
    "import sys\n",
    "sys.path.insert(0, '..')\n",
    "from course_utils import Test\n",
    "sys.path.remove('..')\n",
    "\n",
    "from problem_2_3_4_5 import Fraction, NotAnIntegerException\n",
    "\n",
    "one_third = Fraction(1, 3)\n",
    "one_half = Fraction(1, 2)\n",
    "\n",
    "to_float_examples = [\n",
    "    (Fraction.is_complete(one_half, one_half), True),\n",
    "    (Fraction.is_complete(one_third, one_third, one_third), True),\n",
    "    (Fraction.is_complete(one_third), False),\n",
    "    (Fraction.is_complete(one_half, one_half, one_half), False),\n",
    "]\n",
    "\n",
    "Test(examples=to_float_examples).equivalence()"
   ]
  },
  {
   "cell_type": "code",
   "execution_count": null,
   "metadata": {},
   "outputs": [],
   "source": []
  }
 ],
 "metadata": {
  "kernelspec": {
   "display_name": "Python 3 (ipykernel)",
   "language": "python",
   "name": "python3"
  },
  "language_info": {
   "codemirror_mode": {
    "name": "ipython",
    "version": 3
   },
   "file_extension": ".py",
   "mimetype": "text/x-python",
   "name": "python",
   "nbconvert_exporter": "python",
   "pygments_lexer": "ipython3",
   "version": "3.9.6"
  }
 },
 "nbformat": 4,
 "nbformat_minor": 4
}
