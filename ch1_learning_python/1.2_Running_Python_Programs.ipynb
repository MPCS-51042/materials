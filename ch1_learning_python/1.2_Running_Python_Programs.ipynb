{
 "cells": [
  {
   "cell_type": "markdown",
   "metadata": {},
   "source": [
    "## Running Python Programs\n",
    "\n",
    "When learning new languages, the traditional first program is the one that prints the text \"hello world\" to the terminal. Here's the implemenetation in Python. "
   ]
  },
  {
   "cell_type": "code",
   "execution_count": null,
   "metadata": {},
   "outputs": [],
   "source": [
    "# This will print \"Hello World\" to the console\n",
    "print(\"Hello World\")"
   ]
  },
  {
   "cell_type": "markdown",
   "metadata": {},
   "source": [
    "Notes: \n",
    " - `print` is a built-in function. It takes a value and prints it to the terminal.\n",
    " - You can comment a line in Python with ``#``. "
   ]
  },
  {
   "cell_type": "markdown",
   "metadata": {},
   "source": [
    "## Running this program\n",
    "\n",
    "In Python, there are two ways of running code:\n",
    "\n",
    "### Way 1: The REPL\n",
    "\n",
    "Using an interactive prompt. You write a line of code, you hit enter, and the interpreter executes that line of code and shows the result (if any). \n",
    "\n",
    " - The interpreter is accessible via the terminal program on your machine.\n",
    " \n",
    " - The interpreter is also known as a REPL (read-eval-print loop)\n",
    "\n",
    " - The REPL is great for learning, experimenting, and testing Python code\n",
    "\n",
    "\n",
    " - **Demo**: Go into your terminal and type in `python`. This opens an interactive Python session for you, where your cursor will be placed on a line with some `>>>` to the left of it. Here, type `print(\"Hello World\")`.\n",
    " \n",
    "### Way 2: A .py file\n",
    " \n",
    " - **Demo**: Create a blank file called ``hello.py``, write ``print(\"Hello, world!\")`` inside it. Then, in your terminal, `cd` into the same directory where you put the file and run:\n",
    "   \n",
    "       python hello.py"
   ]
  },
  {
   "cell_type": "markdown",
   "metadata": {},
   "source": [
    "#### A Usage Note \n",
    "\n",
    "The REPL is a good tool for experimenting with code interactively. Once your code becomes complex then you will want to save it as a Python program. These programs are saved in a ``.py`` file (or a collection of ``.py`` files). \n",
    " "
   ]
  }
 ],
 "metadata": {
  "kernelspec": {
   "display_name": "Python 3",
   "language": "python",
   "name": "python3"
  },
  "language_info": {
   "codemirror_mode": {
    "name": "ipython",
    "version": 3
   },
   "file_extension": ".py",
   "mimetype": "text/x-python",
   "name": "python",
   "nbconvert_exporter": "python",
   "pygments_lexer": "ipython3",
   "version": "3.9.0"
  }
 },
 "nbformat": 4,
 "nbformat_minor": 4
}
