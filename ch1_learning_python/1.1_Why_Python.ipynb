{
 "cells": [
  {
   "cell_type": "markdown",
   "metadata": {},
   "source": [
    "### [Video Explanation Here!](https://youtu.be/XLlQVMhhPlI)\n",
    "\n",
    "# Why Learn Python? "
   ]
  },
  {
   "cell_type": "markdown",
   "metadata": {},
   "source": [
    "### Python is a great programming language to learn, BUT...\n",
    "\n",
    "So are lots of other programming languages like Java, Ruby, JavaScript, Swift, Kotlin, Golang, Rust, or Haskell.\n",
    "\n",
    "And also, you don't have to choose just one. You can learn as many programming languages as you want over the course of your career. So let's focus the question: why choose Python as your first or second programming language?\n",
    "\n",
    "Many introductory texts about Python address this question, so we'll address it too."
   ]
  },
  {
   "cell_type": "markdown",
   "metadata": {},
   "source": [
    "### But before we do, let's talk about computer science. \n",
    "\n",
    "Specifically, about the role of _perspective_ in computer science.\n",
    "\n",
    "### See, computer science is unlike natural science.\n",
    "\n",
    "Chemists, physicists, and biologists study phenomena governed by universal (except at the extremes) laws of physics, all of which existed long before humans got to this planet.\n",
    "\n",
    "In computer science, everything we use—from frameworks to programming languages to the computer itself—some human(s) created.\n",
    "\n",
    "### That means two things for computer systems:\n",
    "\n",
    "1. **Computer systems are inconsistent.** One person did it a different way than another person. This means that inductive reasoning doesn't necassarily work on code bases: one strategy _does not_ translate across code bases the way that, say, the acceleration of gravity acts on every object on Earth.\n",
    "\n",
    "2. **Every single computer system has a perspective**, because it was created by a person or persons who had a perspective. \n",
    "\n",
    "**So, in any code base, to reason about how things work and why, it's helpful to understand the _perspective_ of its authors.**"
   ]
  },
  {
   "cell_type": "markdown",
   "metadata": {},
   "source": [
    "### So...what is the perspective of Python?\n",
    "\n",
    "Conveniently, somebody wrote it down for us:"
   ]
  },
  {
   "cell_type": "code",
   "execution_count": null,
   "metadata": {},
   "outputs": [],
   "source": [
    "import this"
   ]
  },
  {
   "cell_type": "markdown",
   "metadata": {},
   "source": [
    "We'll come back to this perspective later, but please keep this in mind: the perspective described here plays an important role in explaining how Python works, and why it works that way.\n",
    "\n",
    "### Let's talk about some popular justifications for learning Python:"
   ]
  },
  {
   "cell_type": "markdown",
   "metadata": {},
   "source": [
    "### 1. Python is easy.\n",
    "\n",
    "Some people find Python easy. Others find it very challenging to learn. If you find Python challenging, Python's reputation for being \"easy\" can make it feel like you shouldn't program, because \"even the easy language is too hard for you.\" This is not true. Every programmer struggles to learn things sometimes.\n",
    "\n",
    "**This is why:** humans made it up. All of it. You'll recall that this means it's inconsistent. Intuition often doesn't work in computer science. The way you saw another programming language do something might explain, or might say absolutely nothing about, the way Python does it. At some point, almost every programmer runs into a concept, framework, or language that breaks their brain just because it is _so different_ from what they have seen and used before. And that's not just beginners; Dave Beazley teaches an Advanced Programming with Python class in which experienced Python programmers get their brains broken _by Python_.\n",
    "\n",
    "You are not alone!\n",
    "\n",
    "#### But here's what people are getting at when they say Python is easy: \n",
    "\n",
    "The _perspective_ of the Python language values minimal syntax (\"simple is better than complex\"), a flat structure (\"flat is better than nested\"), and crucially, _only one way to do something_ (\"There should be one-- and preferably only one --obvious way to do it\").\n",
    "\n",
    "In designing a language, we face a tradeoff: **expressiveness** (how precisely we can communicate our intent through our code) versus **interpretability** (how easy it is to misinterpret what we said). \n",
    "\n",
    "Ruby values expressiveness over interpretability: the artful Rubyist can construct code that reads more or less like an English sentence. Indeed, that was the _intent_ of that language's _design_. When this happens, it's gorgeous to see. However, the inexperienced (or malevolent) Rubyist can construct code that works fine, but is utterly unintelligible.\n",
    "\n",
    "Python values interpretability over expressiveness: the authors strive for there to be only _one_ way to write something. \n",
    "\n",
    "#### Here's an example: \n",
    "\n",
    "Python has no case statement. This makes it different from most major languages. This isn't an oversight. Instead, the designers rejected the suggestion to add one. They felt that being able to make a stack of `if...elif...elif...` got the job done well enough.\n",
    "\n",
    "#### So Python reads...kinda chunky, kinda clunky. \n",
    "\n",
    "But because it's lean on language constructs, there are fewer ways to misinterpret it. It's harder to write illegible code. So you can get up and running faster with it than with other programming languages if computer science concepts or syntactic composition concepts are unfamiliar to you."
   ]
  },
  {
   "cell_type": "markdown",
   "metadata": {},
   "source": [
    "### 2. Python is a general-purpose programming language.  \n",
    "\n",
    "So, when we call Python \"general purpose,\" we're taking \"application development\" as our frame of reference. There are all kinds of ways to give instructions to a computer that have nothing to do with application development. \n",
    "\n",
    "Programmers have labeled these things—like CSS or HTML or SNOBOL or Alloy or TLA+ or Excel or SQL or Cypher or even APL (which, paradoxically, stands for \"a programming language\")—as _not_ programming languages, and therefore _lesser_ tools, and their users lesser people, than programmers. Programmers use this artificial technical stratification to arbitrate who is more valuable/important than whom. When we fail to learn from the other disciplines that give instructions to computers, we deprive ourselves of all the lessons that we can learn from them to help us get _better_ at the things that application development does _badly_.\n",
    "\n",
    "#### Every tool works for specific jobs. \n",
    "\n",
    "And we are responsible for knowing what that job is, so we don't accidentally insinuate that that job is _everything_.\n",
    "\n",
    "#### But here's what people are getting at when they say Python is general purpose: \n",
    "\n",
    "Python is useful for a lot of different things: data science, machine learning, web development, and systems level scripting, to name a few. It works on many different platforms like Linux, Windows, and MacOS—which cannot be said for, say, Swift, which [just came to Windows](https://swift.org/blog/swift-on-windows/) in September of 2020. \n",
    "\n",
    "Python also allows us to work in both imperative and functional paradigms, which is useful in situations where we might want each of these to solve different problems. Now, is it _good_ at both? Not particularly. Plenty of other languages eclipse it here: Java, Swift, Kotlin, and Golang, to name a few. But it _can_ do it, which affords some broader appeal that we don't have with, for example, Clojure, Haskell, or C."
   ]
  },
  {
   "cell_type": "markdown",
   "metadata": {},
   "source": [
    "### 3. Python is Popular. \n",
    "\n",
    "Python _is_ popular, according to [a few different indices](https://www.zdnet.com/article/programming-language-pythons-popularity-ahead-of-java-for-first-time-but-still-trailing-c) that each measure a programming language's popularity based on how many searches on various search engines contain their names.\n",
    "  \n",
    "It's worth noting that a _big_ chunk of Python searches happen because Python crossed over from a web app language to _also_ get used in data science and machine learning capacities. Perl, Javascript, and PHP didn't do that. So the Python traffic represented here is _both_ web application development questions _and_ data science questions. \n",
    "\n",
    "Please keep in mind, as any good data scientist would, that \"number of search engine hits,\" which is what these indices measure, is a **proxy metric** for \"How many people are actually using the language.\" We don't precisely _know_ how good that proxy is.\n",
    "\n",
    "But we don't need this index to know that lots of companies are hiring programmers to write Python.\n",
    "\n",
    "#### Here's the part I want to question.\n",
    "\n",
    "I think that the use of this reason often insinuates \"If you know Python, you will always be able to get a job.\" That's not _more_ true of Python than it is of most other popular programming languages. If you know Java, Ruby, or Javascript, you'll also have opportunities. In fact, _the hiring gap for programmers is so large right now that if you know any programming language, someone will probably interview you._\n",
    "\n",
    "So that brings me to the bigger problem here: the fixed mindset around programming languages.\n",
    "\n",
    "Within a given paradigm, most programming languages have a lot of similarities. And almost _all_ popular programming languages use English keywords (I'm excluding a few collection manipulation languages that speak mostly in mathematical symbols). This means that, once you know _one_ programming language, it's usually easier for you to learn the second one than it was to learn the first one (note that I am saying **easier**, not **easy** ;). Your ramp-up time tends to get shorter and shorter with each successive language in a paradigm. So, knowing Python gives you the ability to do a Python job—but, with some weeks of study, so does knowing Ruby or JavaScript. There is _one_ caveat here...\n",
    "\n",
    "### Data Science.\n",
    "\n",
    "Now, here's the thing about data science. **To do data science, you have to know data science**—that is, statistics, and usually a bunch of stuff about the specific domain you're doing data science in. The main skill you need isn't actually Python. \n",
    "\n",
    "I have helped several researchers in the hard sciences write software to get their research done. None of them know Python, but they've all written their scripts in Python. It's not _great_ Python: they copied and pasted together stuff they found on StackOverflow. \n",
    "\n",
    "But despite _not knowing Python_, they're able to use a search engine to find the lines they need and get the job done with Python because they know **data science.** \n",
    "\n",
    "In my experience, data science and machine learning code (in Python or another language) tends to leave a lot of speed and _a lot_ of legibility on the table, but it gets the job done.\n",
    "\n",
    "If your goal is to be a data scientist, I highly recommend taking statistics as well as classes in the particular field where you want to science data. Python is a nice-to-have, and I'd prefer you know Python if you're doing data science, but from what I've seen in the real world, it's not the most important skill a data scientist needs."
   ]
  },
  {
   "cell_type": "markdown",
   "metadata": {},
   "source": [
    "## Fine, you grumpy curmudgeon. \n",
    "\n",
    "### If all these reasons have issues, why _should_ I learn Python?\n",
    "\n",
    "I'm so glad you asked!\n",
    "\n",
    "The reason comes back to our earlier conversation about _perspective_.\n",
    "\n",
    "Remember this?"
   ]
  },
  {
   "cell_type": "code",
   "execution_count": null,
   "metadata": {},
   "outputs": [],
   "source": [
    "import this"
   ]
  },
  {
   "cell_type": "markdown",
   "metadata": {},
   "source": [
    "#### This poem was written as kind of a joke, and isn't designed to be taken too seriously."
   ]
  },
  {
   "cell_type": "markdown",
   "metadata": {},
   "source": [
    "Nevertheless, the poem succinclty conveys the _perspective_ that informed Python's design.\n",
    "\n",
    "It's a useful perspective, and one that a lot of other programming language designers have borrowed from. And it's a perspective that you, as a programmer, can borrow from, too. \n",
    "\n",
    "What better way to learn to program than to do it with a language that leads by example with its simplicity, legibility, and practicality? Whether you're writing Ruby, Java, Scala, Perl, or Klingon, these are valuable lessons to keep in mind. And they'll make you a better programmer.\n",
    "\n",
    "In any language."
   ]
  }
 ],
 "metadata": {
  "kernelspec": {
   "display_name": "Python 3",
   "language": "python",
   "name": "python3"
  },
  "language_info": {
   "codemirror_mode": {
    "name": "ipython",
    "version": 3
   },
   "file_extension": ".py",
   "mimetype": "text/x-python",
   "name": "python",
   "nbconvert_exporter": "python",
   "pygments_lexer": "ipython3",
   "version": "3.8.8"
  }
 },
 "nbformat": 4,
 "nbformat_minor": 4
}
