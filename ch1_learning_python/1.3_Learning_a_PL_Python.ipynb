{
 "cells": [
  {
   "cell_type": "markdown",
   "metadata": {},
   "source": [
    "### [Video Explanation Here!](https://youtu.be/y11A1yz0xxc)\n",
    "\n",
    "\n",
    "## Let's start learning some Python...\n",
    "\n",
    "...but in the process, we'll learn a much broader skill: **how to learn a programming language.**\n",
    "\n",
    "### I have a system that I use for learning programming languages.\n",
    "\n",
    "It has been helpful so far for learning Golang, .Net, Java, Objective-C, Swift, Ruby, Python, Scala, Kotlin, JavaScript, and PHP.\n",
    "\n",
    "When I am learning a programming language..."
   ]
  },
  {
   "cell_type": "markdown",
   "metadata": {},
   "source": [
    "### 1. I don’t focus on memorizing the details of the syntax.\n",
    "\n",
    "I know that I’m going to pick up the syntax from reading example code and writing my own programs.\n",
    "\n",
    "Second of all, since I haven’t written this language before, I don’t know yet which syntax I’ll be using most often, so I’d be at a high risk of spending a disproportionate amount of time learning structures that I’m not going to use. \n",
    "\n",
    "For example, I use generics a lot in Java, in part because I find myself using Java in large/complex systems or extremely generalized libraries. I don’t find myself using generics much in Swift because I typically use Swift for iOS client apps where each piece of code has a very specific use case. So, when I teach Swift, I don’t go over generics. I’d have to contrive an artificial situation to make them relevant.\n",
    "\n",
    "Third of all, syntax is one of those things that I can look up on-demand with a search engine. When I need a case statement, I can Google “[LANGUAGE] case statement” and in most cases, the first result will tell me what I need to know.\n",
    "\n",
    "Fourth of all, syntax is a hard thing to accidentally mess up without realizing it. If the syntax is wrong, the program won’t run. Compare that to if I make an inaccurate assumption about precedence in the language. I think I’m assigning the result of an operation to a variable, but I’m really only assigning part of that operation, then finishing the operation on the assigned variable and throwing away the result. Now, when I reference the variable later, it’s null. I can’t figure out why because I am looking at the line where I am under the impression that I assigned the variable. Syntax doesn’t hang me up on insidious problems like this.\n",
    "\n",
    "So instead..."
   ]
  },
  {
   "cell_type": "markdown",
   "metadata": {},
   "source": [
    "### 2. I ask a set of questions that get to the crux of what I need to know.\n",
    "\n",
    "The set of questions focuses less on syntax (which is relatively google-able) and more on aspects of the language’s organization and implementation. We'll get to what questions I ask in a second."
   ]
  },
  {
   "cell_type": "markdown",
   "metadata": {},
   "source": [
    "### 3. I cement new information in memory by establishing a relationship between that information and stuff I already know.\n",
    "\n",
    "I go through the programming language questions, comparing the new language to a programming language I’m more familiar with. By comparing the two languages, I can anchor the new knowledge about the new programming language to my existing knowledge about a different programming language. You can watch me do the exercise by comparing Python to Swift [right here](https://chelseatroy.com/2020/07/15/how-to-jump-start-learning-a-new-programming-language/).\n",
    "\n",
    "However, today, we will assume that Python is your first programming language, so we will only cover the questions with respect to Python. If you also know another language, feel free to answer the questions for _that_ language and then compare your two sets of notes to see where the language is similar to Python and where it is different."
   ]
  },
  {
   "cell_type": "markdown",
   "metadata": {},
   "source": [
    "## The Questions"
   ]
  },
  {
   "cell_type": "markdown",
   "metadata": {},
   "source": [
    "### 1. Type system: Is this language statically or dynamically typed?\n",
    "\n",
    "### [Video Explanation Here!](https://youtu.be/gpdBSb-4Vvs)"
   ]
  },
  {
   "cell_type": "code",
   "execution_count": null,
   "metadata": {},
   "outputs": [],
   "source": [
    "var = 1\n",
    "var = 4.0\n",
    "var = \"cake\"\n",
    "var = [\"A\", \"B\", \"C\"]"
   ]
  },
  {
   "cell_type": "code",
   "execution_count": null,
   "metadata": {},
   "outputs": [],
   "source": [
    "def add(item1, item2):\n",
    "    return item1 + item2\n",
    "\n",
    "print(add(1, 1))\n",
    "print(add(\"What's \", \"up dog\"))\n",
    "print(add(12.0, 1.0))\n",
    "print(add([\"fee\", \"fih\"], [\"fo\", \"fum\"]))"
   ]
  },
  {
   "cell_type": "markdown",
   "metadata": {},
   "source": [
    "### 2. Types: \n",
    "\n",
    "### [Video Explanation Here!](https://youtu.be/Uw1Qz6D_L4U)\n",
    "\n",
    "- What are the basic types for representing strings, numbers, and true/false values?\n",
    "- What types does this language provide for representing collections?"
   ]
  },
  {
   "cell_type": "code",
   "execution_count": null,
   "metadata": {},
   "outputs": [],
   "source": [
    "type(1)"
   ]
  },
  {
   "cell_type": "code",
   "execution_count": null,
   "metadata": {},
   "outputs": [],
   "source": [
    "type(1.0)"
   ]
  },
  {
   "cell_type": "code",
   "execution_count": null,
   "metadata": {},
   "outputs": [],
   "source": [
    "type(7 + 9j)"
   ]
  },
  {
   "cell_type": "code",
   "execution_count": null,
   "metadata": {},
   "outputs": [],
   "source": [
    "type(\"Hello!\")"
   ]
  },
  {
   "cell_type": "code",
   "execution_count": null,
   "metadata": {},
   "outputs": [],
   "source": [
    "type(False)"
   ]
  },
  {
   "cell_type": "code",
   "execution_count": null,
   "metadata": {},
   "outputs": [],
   "source": [
    "type([1, 3, 4, 1])\n",
    "[1, 3, 4, 1][3]"
   ]
  },
  {
   "cell_type": "code",
   "execution_count": null,
   "metadata": {},
   "outputs": [],
   "source": [
    "type({4, 3, 2, 4})"
   ]
  },
  {
   "cell_type": "code",
   "execution_count": null,
   "metadata": {},
   "outputs": [],
   "source": [
    "type({\"name\" : \"Big Bird\", \"address\" : \"Sesame Street\"})\n",
    "dictionary = {\"name\" : \"Big Bird\", \"address\" : \"Sesame Street\"}\n",
    "dictionary[\"name\"]"
   ]
  },
  {
   "cell_type": "markdown",
   "metadata": {},
   "source": [
    "### 3. Conventions: Is this language conventionally snake_cased or camelCased?\n",
    "\n",
    "### [Video Explanation Here!](https://youtu.be/MT3NUcjIDBg)"
   ]
  },
  {
   "cell_type": "code",
   "execution_count": null,
   "metadata": {},
   "outputs": [],
   "source": [
    "# Class definitions\n",
    "\n",
    "class you_could_name_a_class_this_way():\n",
    "    pass \n",
    "\n",
    "class ButThisIsConsideredPythonic():\n",
    "    pass"
   ]
  },
  {
   "cell_type": "code",
   "execution_count": null,
   "metadata": {},
   "outputs": [],
   "source": [
    "# Function Defitnitions\n",
    "\n",
    "def thisWorks():\n",
    "    \"However\"\n",
    "    \n",
    "def this_is_considered_pythonic():\n",
    "    pass"
   ]
  },
  {
   "cell_type": "code",
   "execution_count": null,
   "metadata": {},
   "outputs": [],
   "source": [
    "# Variable Definitions\n",
    "\n",
    "thisKindOfName = \"works, technically\"\n",
    "but_this = \"Is considered Pythonic\"\n",
    "AND_THIS = \"Signals that the variable should not change, speaking of which...\""
   ]
  },
  {
   "cell_type": "markdown",
   "metadata": {},
   "source": [
    "### 4. Mutability and Legibility (in other words, referencing & writing to variables):\n",
    "\n",
    "### [Video Explanation Here!](https://youtu.be/h1rQ5u877DY)\n",
    "\n",
    "- How does this language determine which variables are mutable?\n",
    "- How does this language define the scope of a variable?\n",
    "- What is the default, and the options, for the privacy level of a variable?"
   ]
  },
  {
   "cell_type": "code",
   "execution_count": null,
   "metadata": {},
   "outputs": [],
   "source": [
    "integer = 7\n",
    "id(integer)"
   ]
  },
  {
   "cell_type": "code",
   "execution_count": null,
   "metadata": {},
   "outputs": [],
   "source": [
    "integer = 8\n",
    "id(integer)"
   ]
  },
  {
   "cell_type": "code",
   "execution_count": null,
   "metadata": {},
   "outputs": [],
   "source": [
    "listo = [1, 2, 3]\n",
    "id(listo)"
   ]
  },
  {
   "cell_type": "code",
   "execution_count": null,
   "metadata": {},
   "outputs": [],
   "source": [
    "listo.append(4)\n",
    "id(listo)"
   ]
  },
  {
   "cell_type": "code",
   "execution_count": null,
   "metadata": {},
   "outputs": [],
   "source": [
    "def greeting(name):\n",
    "    return f\"Hello, {name}!\"\n",
    "\n",
    "hello = greeting(\"Chelsea\")\n",
    "print(hello)"
   ]
  },
  {
   "cell_type": "code",
   "execution_count": null,
   "metadata": {},
   "outputs": [],
   "source": [
    "name"
   ]
  },
  {
   "cell_type": "markdown",
   "metadata": {},
   "source": [
    "### 5. Paradigm (imperative/functional): \n",
    "\n",
    "### [Video Explanation Here!](https://youtu.be/cKQuS3N6OBw)\n",
    "\n",
    "- Can you write both of these styles with this language? \n",
    "- Is it oriented toward one or the other?"
   ]
  },
  {
   "cell_type": "code",
   "execution_count": null,
   "metadata": {},
   "outputs": [],
   "source": [
    "class RedShoulderedBlackbird():\n",
    "    def respond(self):\n",
    "        print(\"I'm going to land on your head, scream at you, then steal your hot dog\")\n",
    "\n",
    "class BigBird():\n",
    "    def respond(self):\n",
    "        print(\"I'm going to teach you a letter of the alphabet!\")\n",
    "        \n",
    "class Parrot():\n",
    "    def __init__(self):\n",
    "        self.annoyed_level = 0\n",
    "        \n",
    "    def respond(self):\n",
    "        self.annoyed_level += 1\n",
    "        if self.annoyed_level < 3:\n",
    "            print(\"I'm going to bite you\")\n",
    "        else:\n",
    "            print(\"OKAY THAT'S IT BUCKO, YOU'RE GETTING THE BEAK!!!!!!!\")\n",
    "        \n",
    "        \n",
    "def eye_contact_with(bird):\n",
    "    bird.respond()"
   ]
  },
  {
   "cell_type": "code",
   "execution_count": null,
   "metadata": {},
   "outputs": [],
   "source": [
    "red_shouldered_blackbird = RedShoulderedBlackbird()\n",
    "big_bird = BigBird()\n",
    "parrot = Parrot()"
   ]
  },
  {
   "cell_type": "code",
   "execution_count": null,
   "metadata": {},
   "outputs": [],
   "source": [
    "eye_contact_with(red_shouldered_blackbird)\n",
    "eye_contact_with(big_bird)\n",
    "eye_contact_with(parrot)"
   ]
  },
  {
   "cell_type": "code",
   "execution_count": null,
   "metadata": {},
   "outputs": [],
   "source": [
    "def make_eye_contact_with(bird):\n",
    "    if bird == \"Parrot\":\n",
    "        print(\"I'm going to bite you\")\n",
    "    elif bird == \"RedShoulderedBlackbird\":\n",
    "        print(\"I'm going to land on your head, scream at you, then steal your hot dog\")\n",
    "    elif bird == \"BigBird\":\n",
    "        print(\"I'm going to teach you a letter of the alphabet!\")\n",
    "\n",
    "make_eye_contact_with(\"Parrot\")\n",
    "make_eye_contact_with(\"RedShoulderedBlackbird\")\n",
    "make_eye_contact_with(\"BigBird\")      "
   ]
  },
  {
   "cell_type": "markdown",
   "metadata": {},
   "source": [
    "### 6. Collaboration: How does this language deal with inheritance, or interfaces?\n",
    "\n",
    "### [Video Explanation Here!](https://youtu.be/Ezwlq92BiAw)"
   ]
  },
  {
   "cell_type": "code",
   "execution_count": null,
   "metadata": {},
   "outputs": [],
   "source": [
    "class ScarletMaccaw(Parrot):\n",
    "    pass\n",
    "\n",
    "maccaw = ScarletMaccaw()"
   ]
  },
  {
   "cell_type": "code",
   "execution_count": null,
   "metadata": {},
   "outputs": [],
   "source": [
    "eye_contact_with(maccaw)"
   ]
  },
  {
   "cell_type": "code",
   "execution_count": null,
   "metadata": {},
   "outputs": [],
   "source": [
    "class Corvid():\n",
    "    def vocalize(self):\n",
    "        raise NotImplementedError(\"vocalize function not implemented\")\n",
    "\n",
    "class BlueJay(Corvid):\n",
    "#     pass\n",
    "    def vocalize(self):\n",
    "        print(\"TWEET\")\n",
    "        \n",
    "jay = BlueJay()\n",
    "jay.vocalize()"
   ]
  },
  {
   "cell_type": "markdown",
   "metadata": {},
   "source": [
    "### 7. Handling null: \n",
    "\n",
    "### [Video Explanation Here!](https://youtu.be/g5Vqjb0j0fo)\n",
    "\n",
    "- How does this language deal with null values? \n",
    "- What do developers need to do, if anything, to handle null values?"
   ]
  },
  {
   "cell_type": "code",
   "execution_count": null,
   "metadata": {},
   "outputs": [],
   "source": [
    "addends = [1, 4, 67, 8, None, 40, None, 2, None, None]\n",
    "\n",
    "sum = 0\n",
    "for addend in addends:\n",
    "    if addend is not None:\n",
    "        sum += addend \n",
    "sum"
   ]
  },
  {
   "cell_type": "markdown",
   "metadata": {},
   "source": [
    "### 8. Precedence: \n",
    "\n",
    "### [Video Explanation Here!](https://youtu.be/C9nYXPWCKn0)\n",
    "\n",
    "- If multiplication and addition are in the same expression, what gets evaluated first? \n",
    "- If the “and” (possibly represented with &&) and “or” (possibly represented with ||) operators are in the same expression, what gets evaluated first?\n",
    "- What’s the result if you take a variable, j, assign it to 0, and then run j *= 2 + 1? Why?"
   ]
  },
  {
   "cell_type": "code",
   "execution_count": null,
   "metadata": {},
   "outputs": [],
   "source": [
    "4 * 3 + 1"
   ]
  },
  {
   "cell_type": "code",
   "execution_count": null,
   "metadata": {},
   "outputs": [],
   "source": [
    "4 + 3 * 2"
   ]
  },
  {
   "cell_type": "code",
   "execution_count": null,
   "metadata": {},
   "outputs": [],
   "source": [
    "False and False or True #Forcing the or to go first changes the result. So the and goes first by default."
   ]
  },
  {
   "cell_type": "code",
   "execution_count": null,
   "metadata": {},
   "outputs": [],
   "source": [
    "True or (False and False)"
   ]
  },
  {
   "cell_type": "code",
   "execution_count": null,
   "metadata": {},
   "outputs": [],
   "source": [
    "j = 0\n",
    "j *= 2 + 1\n",
    "j"
   ]
  },
  {
   "cell_type": "markdown",
   "metadata": {},
   "source": [
    "[Precedence Table for Python](https://docs.python.org/3/reference/expressions.html#operator-precedence)"
   ]
  },
  {
   "cell_type": "markdown",
   "metadata": {},
   "source": [
    "### 9. Associativity: \n",
    "\n",
    "### [Video Explanation Here!](https://youtu.be/_maUlV9gvNE)\n",
    "\n",
    "- What’s the result of 9 / 3 / 3 in this language? Why? \n",
    "- What’s the result of 9 - 2 - 1 in this language? Why?"
   ]
  },
  {
   "cell_type": "code",
   "execution_count": null,
   "metadata": {},
   "outputs": [],
   "source": [
    "9 / 3 / 3"
   ]
  },
  {
   "cell_type": "code",
   "execution_count": null,
   "metadata": {},
   "outputs": [],
   "source": [
    "9 - (2 - 1)"
   ]
  },
  {
   "cell_type": "markdown",
   "metadata": {},
   "source": [
    "### 10. What does the language compile to? \n",
    "\n",
    "### [Video Explanation Here!](https://youtu.be/HmVIGvwDQOU)\n",
    "\n",
    "It’s worth noting here that the way a language compiles is a characteristic of the compiler, not the language. Different compilers can do different things with the same language front end; for example, standard MRI Ruby compiles to C, and JRuby compiles to Java. What you want to know is, what does the compiler you’re using do, and why?"
   ]
  },
  {
   "cell_type": "code",
   "execution_count": null,
   "metadata": {},
   "outputs": [],
   "source": []
  }
 ],
 "metadata": {
  "kernelspec": {
   "display_name": "Python 3 (ipykernel)",
   "language": "python",
   "name": "python3"
  },
  "language_info": {
   "codemirror_mode": {
    "name": "ipython",
    "version": 3
   },
   "file_extension": ".py",
   "mimetype": "text/x-python",
   "name": "python",
   "nbconvert_exporter": "python",
   "pygments_lexer": "ipython3",
   "version": "3.9.6"
  }
 },
 "nbformat": 4,
 "nbformat_minor": 4
}
