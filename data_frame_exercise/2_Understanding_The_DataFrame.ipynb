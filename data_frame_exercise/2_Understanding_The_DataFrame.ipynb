{
 "cells": [
  {
   "cell_type": "markdown",
   "metadata": {},
   "source": [
    "## Okay, we have our Series and GroupBy objects.\n",
    "\n",
    "Now we will use them in an object that helps us modify and analyze data."
   ]
  },
  {
   "cell_type": "code",
   "execution_count": 25,
   "metadata": {},
   "outputs": [],
   "source": [
    "import csv \n",
    "from phoenixcel.dataframe import Series, GroupBy\n",
    "\n",
    "class DataFrame():\n",
    "    def __init__(self):\n",
    "        self._dictionary = {}\n",
    "        self._list = []\n",
    "    \n",
    "    # Ways to create an instance\n",
    "    @classmethod\n",
    "    def from_csv(cls, file_path):\n",
    "        df = cls()\n",
    "        header_unread = True                \n",
    "        \n",
    "        with open(file_path) as f:\n",
    "            reader = csv.DictReader(f)\n",
    "            \n",
    "            for row in reader:\n",
    "                if header_unread:\n",
    "                    for key in row.keys():\n",
    "                        df._dictionary[key] = Series()\n",
    "                    header_unread = False\n",
    "                else:\n",
    "                    df._list.append(row)\n",
    "                    \n",
    "                for key in row.keys():\n",
    "                    df._dictionary[key].append(row[key])\n",
    "            \n",
    "            for key in list(df._dictionary.keys()):\n",
    "                setattr(df, key.lower().replace(\" \", \"_\"), df._dictionary[key])\n",
    "        return df\n",
    "    \n",
    "    @classmethod\n",
    "    def from_rows(cls, rows): #[]\n",
    "        df = cls()\n",
    "        \n",
    "        for key in rows[0].keys():\n",
    "            df._dictionary[key] = Series()\n",
    "        for row in rows:\n",
    "            for key in rows[0].keys():\n",
    "                df._dictionary[key].append(row[key])\n",
    "            df._list.append(row)\n",
    "                \n",
    "        for key in list(df._dictionary.keys()):\n",
    "            setattr(df, key.lower().replace(\" \", \"_\"), df._dictionary[key])\n",
    "\n",
    "        return df\n",
    "\n",
    "    @classmethod\n",
    "    def from_dictionary(cls, dictionary):\n",
    "        df = cls()\n",
    "\n",
    "        df._dictionary = dictionary\n",
    "        for i in range(len(dictionary[list(dictionary.keys())[0]])):\n",
    "            item = {}\n",
    "            for key in dictionary.keys():\n",
    "                item[key] = dictionary[key][i]\n",
    "            df._list.append(item)\n",
    "                \n",
    "        for key in list(df._dictionary.keys()):\n",
    "            setattr(df, key.lower().replace(\" \", \"_\"), df._dictionary[key])\n",
    "\n",
    "        return df\n",
    "\n",
    "    # Properties\n",
    "    @property\n",
    "    def shape(self):\n",
    "        return \\\n",
    "        len(self._dictionary.keys()), \\\n",
    "        len(self._dictionary[list(self._dictionary.keys())[0]])\n",
    "    \n",
    "    @property\n",
    "    def columns(self):\n",
    "        return list(self._dictionary.keys())\n",
    "    \n",
    "    # Methods for getting a column in the dictionary\n",
    "    def __getitem__(self, item):\n",
    "        '''\n",
    "        Get a reference to a column in the dataframe.\n",
    "        \n",
    "        Input:\n",
    "          item - the column header\n",
    "        \n",
    "        Output:\n",
    "          the column, which is a series\n",
    "        \n",
    "        Modifies:\n",
    "          Nothing\n",
    "        '''\n",
    "        return self._dictionary[item]\n",
    "    \n",
    "    # Method for setting a column in the dictionary\n",
    "    def __setitem__(self, key, value):\n",
    "        '''\n",
    "        Set a new column in the dataframe.\n",
    "        \n",
    "        Inputs:\n",
    "          key - the column header\n",
    "          value - the column (as a Series for consistency, please)\n",
    "          \n",
    "        Outputs:\n",
    "          None\n",
    "        \n",
    "        Modifies:\n",
    "          Modifies the dataframe object in place.\n",
    "        '''\n",
    "        self._dictionary[key] = value\n",
    "        for index, item in enumerate(self._list):\n",
    "            item[key] = value[index]\n",
    "           \n",
    "        setattr(self, key.lower().replace(\" \", \"_\"), self._dictionary[key])\n",
    "        \n",
    "    def where(self, condition):\n",
    "        df = self\n",
    "        rows = [row for row in self._list if condition(row)]\n",
    "        print(f\"Result of printing rows: {rows}\")\n",
    "        return DataFrame.from_rows(rows)\n",
    "    \n",
    "    def group_by(self, column):\n",
    "        '''\n",
    "        Returns an object that aggregates the items in the dataframe\n",
    "        based on one value that they have in common,\n",
    "        similar to a pivot table in the software to which\n",
    "        phoenixcell's name pays tribute (Please don't sue me, Microsoft)\n",
    "        \n",
    "        Inputs:\n",
    "          column - the column on whose value the items should be grouped\n",
    "          \n",
    "        Outputs:\n",
    "          A new GroupBy() object\n",
    "        \n",
    "        Modifies:\n",
    "          Nothing\n",
    "        '''\n",
    "        groups = GroupBy()\n",
    "        for item in self._list:\n",
    "            maybe_unique_column_value = item[column]\n",
    "            if maybe_unique_column_value in groups.keys():\n",
    "                groups[maybe_unique_column_value].append(item)\n",
    "            else:\n",
    "                groups[maybe_unique_column_value] = Series()\n",
    "                groups[maybe_unique_column_value].append(item)\n",
    "        return groups"
   ]
  },
  {
   "cell_type": "markdown",
   "metadata": {},
   "source": [
    "### Challenge: Study this code and answer some questions about it.\n",
    "\n",
    "1. The `DataFrame` has three class methods on it. What do these class methods do? Why do you think that they are class methods as opposed to instance methods?\n",
    "\n",
    "2. The `DataFrame` has a `_dictionary` and a `_list` on it. Why does it need each of these? Take a look at the methods to figure out why and how these are needed.\n",
    "\n",
    "3. The `DataFrame` has a `_dictionary` and a `_list`, but it does not inherit from either of those classes. Why do you think this is?\n",
    "\n",
    "4. There's some lines in the constructor and the `__setitem__` method like:\n",
    "\n",
    "```\n",
    "for key in list(df._dictionary.keys()):\n",
    "  setattr(df, key.lower().replace(\" \", \"_\"), df._dictionary[key])\n",
    "```\n",
    "\n",
    "What do those lines do?\n",
    "\n",
    "Here's a dataframe of the `birds` data for you to try out the methods on:"
   ]
  },
  {
   "cell_type": "code",
   "execution_count": 26,
   "metadata": {},
   "outputs": [],
   "source": [
    "df = DataFrame.from_csv('birds.csv')"
   ]
  },
  {
   "cell_type": "markdown",
   "metadata": {},
   "source": [
    "(Hint: try printing out `df._list` or `df._dictionary` to understand what's in there!)"
   ]
  },
  {
   "cell_type": "code",
   "execution_count": 27,
   "metadata": {},
   "outputs": [
    {
     "data": {
      "text/plain": [
       "{'species': ['oriole',\n",
       "  'oriole',\n",
       "  'oriole',\n",
       "  'oriole',\n",
       "  'oriole',\n",
       "  'oriole',\n",
       "  'oriole',\n",
       "  'blue jay',\n",
       "  'blue jay',\n",
       "  'blue jay',\n",
       "  'blue jay',\n",
       "  'blue jay',\n",
       "  'blue jay',\n",
       "  'blue jay',\n",
       "  'titmouse',\n",
       "  'titmouse',\n",
       "  'titmouse',\n",
       "  'titmouse',\n",
       "  'titmouse',\n",
       "  'titmouse',\n",
       "  'titmouse'],\n",
       " 'specimen_id': ['7ss24g6t7f2dr4h32',\n",
       "  '7dr4h32ss24g6t7f2',\n",
       "  'g6t7f2dr4h327ss24',\n",
       "  't77ss24g6f2dr4h32',\n",
       "  '327ss24g6t7f2dr4h',\n",
       "  '6t7ss24g5f2dr4h32',\n",
       "  '2f2dr4h37ss24g6t7',\n",
       "  '88Jnnb323es29bs2f',\n",
       "  '3d329bs2f24g6t7f2',\n",
       "  'g6t3f2dr4h322ss24',\n",
       "  'f2dr4t76ss24g6h32',\n",
       "  't7f2312ss24g6dr4h',\n",
       "  '5f26t1ss24gdr4h32',\n",
       "  '9f237ss24g6t8dr4h',\n",
       "  '1sn32ufks82d92b39',\n",
       "  '8sh2bdn4s24g6t7f2',\n",
       "  'h38snsdr4h327ss24',\n",
       "  'dr4h3224g6tg5f2dr',\n",
       "  '32bf72f9m27f2dr4h',\n",
       "  '2b47f29fn34h47dn3',\n",
       "  't77ss24g6f27s41md'],\n",
       " 'weight': ['4.23',\n",
       "  '4.17',\n",
       "  '5.21',\n",
       "  '3.22',\n",
       "  '4.00',\n",
       "  '3.98',\n",
       "  '5.00',\n",
       "  '5.23',\n",
       "  '6.32',\n",
       "  '5.21',\n",
       "  '4.85',\n",
       "  '4.91',\n",
       "  '5.69',\n",
       "  '5.22',\n",
       "  '2.13',\n",
       "  '3.10',\n",
       "  '2.21',\n",
       "  '2.22',\n",
       "  '3.00',\n",
       "  '2.98',\n",
       "  '3.00']}"
      ]
     },
     "execution_count": 27,
     "metadata": {},
     "output_type": "execute_result"
    }
   ],
   "source": [
    "df._dictionary"
   ]
  },
  {
   "cell_type": "markdown",
   "metadata": {},
   "source": [
    "### Challenge: Write a docstring for the `where` method.\n",
    "\n",
    "Be sure to include:\n",
    "\n",
    "1. A summary of what it does\n",
    "2. What it takes as arguments\n",
    "3. What it returns\n",
    "4. Whether it changes any objects outside the scope of the function itself!"
   ]
  },
  {
   "cell_type": "code",
   "execution_count": 22,
   "metadata": {},
   "outputs": [
    {
     "name": "stdout",
     "output_type": "stream",
     "text": [
      "Result of printing rows: [{'species': 'oriole', 'specimen_id': '7dr4h32ss24g6t7f2', 'weight': '4.17'}, {'species': 'oriole', 'specimen_id': 'g6t7f2dr4h327ss24', 'weight': '5.21'}, {'species': 'oriole', 'specimen_id': 't77ss24g6f2dr4h32', 'weight': '3.22'}, {'species': 'oriole', 'specimen_id': '327ss24g6t7f2dr4h', 'weight': '4.00'}, {'species': 'oriole', 'specimen_id': '6t7ss24g5f2dr4h32', 'weight': '3.98'}, {'species': 'oriole', 'specimen_id': '2f2dr4h37ss24g6t7', 'weight': '5.00'}]\n"
     ]
    }
   ],
   "source": [
    "orioles_only = df.where(lambda row: row['species'] == \"oriole\")"
   ]
  },
  {
   "cell_type": "code",
   "execution_count": 23,
   "metadata": {},
   "outputs": [
    {
     "data": {
      "text/plain": [
       "{'species': ['oriole', 'oriole', 'oriole', 'oriole', 'oriole', 'oriole'],\n",
       " 'specimen_id': ['7dr4h32ss24g6t7f2',\n",
       "  'g6t7f2dr4h327ss24',\n",
       "  't77ss24g6f2dr4h32',\n",
       "  '327ss24g6t7f2dr4h',\n",
       "  '6t7ss24g5f2dr4h32',\n",
       "  '2f2dr4h37ss24g6t7'],\n",
       " 'weight': ['4.17', '5.21', '3.22', '4.00', '3.98', '5.00']}"
      ]
     },
     "execution_count": 23,
     "metadata": {},
     "output_type": "execute_result"
    }
   ],
   "source": [
    "orioles_only._dictionary"
   ]
  },
  {
   "cell_type": "markdown",
   "metadata": {},
   "source": [
    "### Challenge: What happens when you call the `where` function with a conditon that returns no results?"
   ]
  },
  {
   "cell_type": "code",
   "execution_count": 28,
   "metadata": {},
   "outputs": [
    {
     "name": "stdout",
     "output_type": "stream",
     "text": [
      "Result of printing rows: []\n"
     ]
    }
   ],
   "source": [
    "humans_df = df.where(lambda row: row['species'] == \"human\") "
   ]
  },
  {
   "cell_type": "code",
   "execution_count": 29,
   "metadata": {},
   "outputs": [
    {
     "data": {
      "text/plain": [
       "{}"
      ]
     },
     "execution_count": 29,
     "metadata": {},
     "output_type": "execute_result"
    }
   ],
   "source": [
    "humans_df._dictionary"
   ]
  },
  {
   "cell_type": "markdown",
   "metadata": {},
   "source": [
    "Is that what you _expect_ should happen? If not, what _should_ happen?\n",
    "\n",
    "Amend the implementation of `DataFrame` to resolve the issue.\n",
    "\n",
    "**Is there any other similar function in DataFrame that might have the same issue? Which one is it?**"
   ]
  },
  {
   "cell_type": "code",
   "execution_count": null,
   "metadata": {},
   "outputs": [],
   "source": []
  }
 ],
 "metadata": {
  "kernelspec": {
   "display_name": "Python 3 (ipykernel)",
   "language": "python",
   "name": "python3"
  },
  "language_info": {
   "codemirror_mode": {
    "name": "ipython",
    "version": 3
   },
   "file_extension": ".py",
   "mimetype": "text/x-python",
   "name": "python",
   "nbconvert_exporter": "python",
   "pygments_lexer": "ipython3",
   "version": "3.10.8"
  }
 },
 "nbformat": 4,
 "nbformat_minor": 4
}
